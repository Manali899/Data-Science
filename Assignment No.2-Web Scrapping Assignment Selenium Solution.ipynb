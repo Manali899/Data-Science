{
 "cells": [
  {
   "cell_type": "code",
   "execution_count": 1,
   "id": "d3afd7d9",
   "metadata": {},
   "outputs": [
    {
     "name": "stdout",
     "output_type": "stream",
     "text": [
      "Requirement already satisfied: selenium in c:\\programdata\\anaconda3\\lib\\site-packages (4.1.0)\n",
      "Requirement already satisfied: urllib3[secure]~=1.26 in c:\\programdata\\anaconda3\\lib\\site-packages (from selenium) (1.26.7)\n",
      "Requirement already satisfied: trio~=0.17 in c:\\programdata\\anaconda3\\lib\\site-packages (from selenium) (0.19.0)\n",
      "Requirement already satisfied: trio-websocket~=0.9 in c:\\programdata\\anaconda3\\lib\\site-packages (from selenium) (0.9.2)\n",
      "Requirement already satisfied: async-generator>=1.9 in c:\\programdata\\anaconda3\\lib\\site-packages (from trio~=0.17->selenium) (1.10)\n",
      "Requirement already satisfied: outcome in c:\\programdata\\anaconda3\\lib\\site-packages (from trio~=0.17->selenium) (1.1.0)\n",
      "Requirement already satisfied: sortedcontainers in c:\\programdata\\anaconda3\\lib\\site-packages (from trio~=0.17->selenium) (2.4.0)\n",
      "Requirement already satisfied: attrs>=19.2.0 in c:\\programdata\\anaconda3\\lib\\site-packages (from trio~=0.17->selenium) (21.2.0)\n",
      "Requirement already satisfied: sniffio in c:\\programdata\\anaconda3\\lib\\site-packages (from trio~=0.17->selenium) (1.2.0)\n",
      "Requirement already satisfied: idna in c:\\programdata\\anaconda3\\lib\\site-packages (from trio~=0.17->selenium) (3.2)\n",
      "Requirement already satisfied: cffi>=1.14 in c:\\programdata\\anaconda3\\lib\\site-packages (from trio~=0.17->selenium) (1.14.6)\n",
      "Requirement already satisfied: pycparser in c:\\programdata\\anaconda3\\lib\\site-packages (from cffi>=1.14->trio~=0.17->selenium) (2.20)\n",
      "Requirement already satisfied: wsproto>=0.14 in c:\\programdata\\anaconda3\\lib\\site-packages (from trio-websocket~=0.9->selenium) (1.0.0)\n",
      "Requirement already satisfied: pyOpenSSL>=0.14 in c:\\programdata\\anaconda3\\lib\\site-packages (from urllib3[secure]~=1.26->selenium) (21.0.0)\n",
      "Requirement already satisfied: cryptography>=1.3.4 in c:\\programdata\\anaconda3\\lib\\site-packages (from urllib3[secure]~=1.26->selenium) (3.4.8)\n",
      "Requirement already satisfied: certifi in c:\\programdata\\anaconda3\\lib\\site-packages (from urllib3[secure]~=1.26->selenium) (2021.10.8)\n",
      "Requirement already satisfied: six>=1.5.2 in c:\\programdata\\anaconda3\\lib\\site-packages (from pyOpenSSL>=0.14->urllib3[secure]~=1.26->selenium) (1.16.0)\n",
      "Requirement already satisfied: h11<1,>=0.9.0 in c:\\programdata\\anaconda3\\lib\\site-packages (from wsproto>=0.14->trio-websocket~=0.9->selenium) (0.12.0)\n"
     ]
    }
   ],
   "source": [
    "!pip install selenium"
   ]
  },
  {
   "cell_type": "markdown",
   "id": "3b7412bd",
   "metadata": {},
   "source": [
    " Q1: Write a python program to scrape data for “Data Analyst” Job position in “Bangalore” location. You have to scrape the job-title, job-location, company_name, experience_required. You have to scrape first 10 jobs data."
   ]
  },
  {
   "cell_type": "code",
   "execution_count": 6,
   "id": "2a474709",
   "metadata": {},
   "outputs": [],
   "source": [
    "import selenium\n",
    "from selenium import webdriver\n",
    "import pandas as pd\n",
    "import warnings\n",
    "warnings.filterwarnings(\"ignore\")"
   ]
  },
  {
   "cell_type": "code",
   "execution_count": 5,
   "id": "2bd6d667",
   "metadata": {},
   "outputs": [],
   "source": [
    "# Connect to webdriver\n",
    "driver = webdriver.Chrome(r'C:\\Users\\USER\\Downloads\\chromedriver_win32\\chromedriver.exe')\n"
   ]
  },
  {
   "cell_type": "code",
   "execution_count": 5,
   "id": "db2b3e1d",
   "metadata": {},
   "outputs": [],
   "source": [
    "url = 'https://www.naukri.com/'\n",
    "driver.get(url)\n",
    "\n",
    "# finding web element for search job bar using id\n",
    "search_job = driver.find_element_by_id(\"qsb-keyword-sugg\")\n",
    "search_job\n",
    "\n",
    "# write on serach bar\n",
    "search_job.send_keys(\"Data Analyst\")\n",
    "\n",
    "# finding web element for search location using absolute xpath\n",
    "search_locn = driver.find_element_by_xpath('/html/body/div[1]/div[3]/div[2]/section/div/form/div[2]/div/div/div/div[1]/div[2]/input')\n",
    "search_locn\n",
    "\n",
    "# write on serach bar\n",
    "search_locn.send_keys(\"Bangalore\")\n",
    "\n",
    "# clicking using absolute xpath function\n",
    "search_btn = driver.find_element_by_xpath('/html/body/div[1]/div[3]/div[2]/section/div/form/div[3]/button')\n",
    "search_btn\n",
    "\n",
    "search_btn.click()"
   ]
  },
  {
   "cell_type": "code",
   "execution_count": 6,
   "id": "8451a4fd",
   "metadata": {},
   "outputs": [
    {
     "data": {
      "text/plain": [
       "['Lead - Data Analyst / Scientist',\n",
       " 'Senior Data Analyst',\n",
       " 'Data Analyst',\n",
       " 'Business Data Analyst - Database Design/Mining',\n",
       " 'Senior Data Analyst - KPO',\n",
       " 'Senior Data Analyst - Supporting Audits',\n",
       " 'Senior Data Analyst',\n",
       " 'Senior Data Analyst',\n",
       " 'Senior Data Analyst',\n",
       " 'Advanced Services Engineer - Data Analyst']"
      ]
     },
     "execution_count": 6,
     "metadata": {},
     "output_type": "execute_result"
    }
   ],
   "source": [
    "# scrape the job-title web element\n",
    "title_tags = driver.find_elements_by_xpath('//a[@class=\"title fw500 ellipsis\"]')\n",
    "len(title_tags)\n",
    "title_tags[0:10]\n",
    "\n",
    "# scrape first 10 job-titles\n",
    "job_titles = []\n",
    "\n",
    "for i in title_tags:\n",
    "    job_titles.append(i.text)\n",
    "len(job_titles)\n",
    "job_titles[0:10]"
   ]
  },
  {
   "cell_type": "code",
   "execution_count": 7,
   "id": "a3f2ba86",
   "metadata": {},
   "outputs": [
    {
     "data": {
      "text/plain": [
       "['Bangalore/Bengaluru',\n",
       " 'Bangalore/Bengaluru',\n",
       " 'Bangalore/Bengaluru',\n",
       " 'Bangalore/Bengaluru',\n",
       " 'Gurgaon/Gurugram, Bangalore/Bengaluru',\n",
       " 'Bangalore/Bengaluru',\n",
       " 'Bangalore/Bengaluru',\n",
       " 'Bangalore/Bengaluru',\n",
       " 'Remote',\n",
       " 'Bangalore/Bengaluru']"
      ]
     },
     "execution_count": 7,
     "metadata": {},
     "output_type": "execute_result"
    }
   ],
   "source": [
    "# scrape the Job location web element\n",
    "location_tags = driver.find_elements_by_xpath('//li[@class=\"fleft grey-text br2 placeHolderLi location\"]')\n",
    "len(location_tags)\n",
    "location_tags[0:10]\n",
    "\n",
    "# scrape first 10 job-titles\n",
    "job_location = []\n",
    "for i in location_tags:\n",
    "    job_location.append(i.text)\n",
    "len(job_location)\n",
    "job_location[0:10]"
   ]
  },
  {
   "cell_type": "code",
   "execution_count": 9,
   "id": "ed72f7ae",
   "metadata": {},
   "outputs": [
    {
     "data": {
      "text/plain": [
       "['Axim Technologies',\n",
       " 'Schneider Electric',\n",
       " 'Snaphunt',\n",
       " 'AugmatrixGo',\n",
       " 'Huquo Consulting Pvt. Ltd',\n",
       " 'Visa',\n",
       " 'Glance',\n",
       " 'Glance IT Solution',\n",
       " 'Arcworth Strategy LLP',\n",
       " 'Juniper Networks']"
      ]
     },
     "execution_count": 9,
     "metadata": {},
     "output_type": "execute_result"
    }
   ],
   "source": [
    "# scrape the Company_name web element\n",
    "company_tags = driver.find_elements_by_xpath('//a[@class=\"subTitle ellipsis fleft\"]')\n",
    "len(company_tags)\n",
    "company_tags[0:10]\n",
    "\n",
    "# scrape first 10 company_names\n",
    "company_name = []\n",
    "\n",
    "for i in company_tags:\n",
    "    company_name.append(i.text)\n",
    "len(company_name)\n",
    "company_name[0:10]"
   ]
  },
  {
   "cell_type": "code",
   "execution_count": 10,
   "id": "d4c042e2",
   "metadata": {},
   "outputs": [
    {
     "data": {
      "text/plain": [
       "['12-14 Yrs',\n",
       " '0-2 Yrs',\n",
       " '0-2 Yrs',\n",
       " '2-5 Yrs',\n",
       " '7-12 Yrs',\n",
       " '5-8 Yrs',\n",
       " '1-6 Yrs',\n",
       " '1-6 Yrs',\n",
       " '2-4 Yrs',\n",
       " '5-9 Yrs']"
      ]
     },
     "execution_count": 10,
     "metadata": {},
     "output_type": "execute_result"
    }
   ],
   "source": [
    "# scrape the Experience required web element\n",
    "experience_tags = driver.find_elements_by_xpath('//li[@class=\"fleft grey-text br2 placeHolderLi experience\"]')\n",
    "len(experience_tags)\n",
    "experience_tags[0:10]\n",
    "\n",
    "experience = []\n",
    "\n",
    "for i in experience_tags:\n",
    "    experience.append(i.text)\n",
    "len(experience)\n",
    "experience[0:10]"
   ]
  },
  {
   "cell_type": "code",
   "execution_count": 11,
   "id": "377a8bce",
   "metadata": {},
   "outputs": [
    {
     "data": {
      "text/html": [
       "<div>\n",
       "<style scoped>\n",
       "    .dataframe tbody tr th:only-of-type {\n",
       "        vertical-align: middle;\n",
       "    }\n",
       "\n",
       "    .dataframe tbody tr th {\n",
       "        vertical-align: top;\n",
       "    }\n",
       "\n",
       "    .dataframe thead th {\n",
       "        text-align: right;\n",
       "    }\n",
       "</style>\n",
       "<table border=\"1\" class=\"dataframe\">\n",
       "  <thead>\n",
       "    <tr style=\"text-align: right;\">\n",
       "      <th></th>\n",
       "      <th>Job Title</th>\n",
       "      <th>Job Location</th>\n",
       "      <th>Company Name</th>\n",
       "      <th>Experience</th>\n",
       "    </tr>\n",
       "  </thead>\n",
       "  <tbody>\n",
       "    <tr>\n",
       "      <th>0</th>\n",
       "      <td>Lead - Data Analyst / Scientist</td>\n",
       "      <td>Bangalore/Bengaluru</td>\n",
       "      <td>Axim Technologies</td>\n",
       "      <td>12-14 Yrs</td>\n",
       "    </tr>\n",
       "    <tr>\n",
       "      <th>1</th>\n",
       "      <td>Senior Data Analyst</td>\n",
       "      <td>Bangalore/Bengaluru</td>\n",
       "      <td>Schneider Electric</td>\n",
       "      <td>0-2 Yrs</td>\n",
       "    </tr>\n",
       "    <tr>\n",
       "      <th>2</th>\n",
       "      <td>Data Analyst</td>\n",
       "      <td>Bangalore/Bengaluru</td>\n",
       "      <td>Snaphunt</td>\n",
       "      <td>0-2 Yrs</td>\n",
       "    </tr>\n",
       "    <tr>\n",
       "      <th>3</th>\n",
       "      <td>Business Data Analyst - Database Design/Mining</td>\n",
       "      <td>Bangalore/Bengaluru</td>\n",
       "      <td>AugmatrixGo</td>\n",
       "      <td>2-5 Yrs</td>\n",
       "    </tr>\n",
       "    <tr>\n",
       "      <th>4</th>\n",
       "      <td>Senior Data Analyst - KPO</td>\n",
       "      <td>Gurgaon/Gurugram, Bangalore/Bengaluru</td>\n",
       "      <td>Huquo Consulting Pvt. Ltd</td>\n",
       "      <td>7-12 Yrs</td>\n",
       "    </tr>\n",
       "    <tr>\n",
       "      <th>5</th>\n",
       "      <td>Senior Data Analyst - Supporting Audits</td>\n",
       "      <td>Bangalore/Bengaluru</td>\n",
       "      <td>Visa</td>\n",
       "      <td>5-8 Yrs</td>\n",
       "    </tr>\n",
       "    <tr>\n",
       "      <th>6</th>\n",
       "      <td>Senior Data Analyst</td>\n",
       "      <td>Bangalore/Bengaluru</td>\n",
       "      <td>Glance</td>\n",
       "      <td>1-6 Yrs</td>\n",
       "    </tr>\n",
       "    <tr>\n",
       "      <th>7</th>\n",
       "      <td>Senior Data Analyst</td>\n",
       "      <td>Bangalore/Bengaluru</td>\n",
       "      <td>Glance IT Solution</td>\n",
       "      <td>1-6 Yrs</td>\n",
       "    </tr>\n",
       "    <tr>\n",
       "      <th>8</th>\n",
       "      <td>Senior Data Analyst</td>\n",
       "      <td>Remote</td>\n",
       "      <td>Arcworth Strategy LLP</td>\n",
       "      <td>2-4 Yrs</td>\n",
       "    </tr>\n",
       "    <tr>\n",
       "      <th>9</th>\n",
       "      <td>Advanced Services Engineer - Data Analyst</td>\n",
       "      <td>Bangalore/Bengaluru</td>\n",
       "      <td>Juniper Networks</td>\n",
       "      <td>5-9 Yrs</td>\n",
       "    </tr>\n",
       "  </tbody>\n",
       "</table>\n",
       "</div>"
      ],
      "text/plain": [
       "                                        Job Title  \\\n",
       "0                 Lead - Data Analyst / Scientist   \n",
       "1                             Senior Data Analyst   \n",
       "2                                    Data Analyst   \n",
       "3  Business Data Analyst - Database Design/Mining   \n",
       "4                       Senior Data Analyst - KPO   \n",
       "5         Senior Data Analyst - Supporting Audits   \n",
       "6                             Senior Data Analyst   \n",
       "7                             Senior Data Analyst   \n",
       "8                             Senior Data Analyst   \n",
       "9       Advanced Services Engineer - Data Analyst   \n",
       "\n",
       "                            Job Location               Company Name Experience  \n",
       "0                    Bangalore/Bengaluru          Axim Technologies  12-14 Yrs  \n",
       "1                    Bangalore/Bengaluru         Schneider Electric    0-2 Yrs  \n",
       "2                    Bangalore/Bengaluru                   Snaphunt    0-2 Yrs  \n",
       "3                    Bangalore/Bengaluru                AugmatrixGo    2-5 Yrs  \n",
       "4  Gurgaon/Gurugram, Bangalore/Bengaluru  Huquo Consulting Pvt. Ltd   7-12 Yrs  \n",
       "5                    Bangalore/Bengaluru                       Visa    5-8 Yrs  \n",
       "6                    Bangalore/Bengaluru                     Glance    1-6 Yrs  \n",
       "7                    Bangalore/Bengaluru         Glance IT Solution    1-6 Yrs  \n",
       "8                                 Remote      Arcworth Strategy LLP    2-4 Yrs  \n",
       "9                    Bangalore/Bengaluru           Juniper Networks    5-9 Yrs  "
      ]
     },
     "execution_count": 11,
     "metadata": {},
     "output_type": "execute_result"
    }
   ],
   "source": [
    "jobs = pd.DataFrame()\n",
    "jobs['Job Title'] = job_titles\n",
    "jobs['Job Location'] = job_location\n",
    "jobs['Company Name'] = company_name\n",
    "jobs['Experience'] = experience\n",
    "jobs[0:10]"
   ]
  },
  {
   "cell_type": "markdown",
   "id": "e4eea31d",
   "metadata": {},
   "source": [
    "Q2: Write a python program to scrape data for “Data Scientist” Job position in “Bangalore” location. You have to scrape the job-title, job-location, company_name. You have to scrape first 10 jobs data."
   ]
  },
  {
   "cell_type": "code",
   "execution_count": 13,
   "id": "7f36e6aa",
   "metadata": {},
   "outputs": [],
   "source": [
    "url = 'https://www.naukri.com/'\n",
    "driver.get(url)\n",
    "\n",
    "# finding web element for search job bar using id\n",
    "search_job = driver.find_element_by_id(\"qsb-keyword-sugg\")\n",
    "search_job\n",
    "\n",
    "# write on serach bar\n",
    "search_job.send_keys(\"Data Scientist\")\n",
    "\n",
    "# finding web element for search location using absolute xpath\n",
    "search_locn = driver.find_element_by_xpath('/html/body/div[1]/div[3]/div[2]/section/div/form/div[2]/div/div/div/div[1]/div[2]/input')\n",
    "search_locn\n",
    "\n",
    "# write on serach bar\n",
    "search_locn.send_keys(\"Bangalore\")\n",
    "\n",
    "# clicking using absolute xpath function\n",
    "search_btn = driver.find_element_by_xpath('/html/body/div[1]/div[3]/div[2]/section/div/form/div[3]/button')\n",
    "search_btn\n",
    "\n",
    "search_btn.click()"
   ]
  },
  {
   "cell_type": "code",
   "execution_count": 14,
   "id": "9fa147e5",
   "metadata": {},
   "outputs": [
    {
     "data": {
      "text/plain": [
       "['Global Tax Automation & Operations | Data Scientist Senior Analyst',\n",
       " 'Senior Data Scientist',\n",
       " 'Lead - Data Analyst / Scientist',\n",
       " 'Job opening with Wipro For Data Scientist',\n",
       " 'Data Scientist I',\n",
       " 'Spark ML Data Scientist',\n",
       " 'Spark ML Data Scientist',\n",
       " 'Azure ML Data Scientist',\n",
       " 'Senior Data Scientist',\n",
       " 'Data Scientist']"
      ]
     },
     "execution_count": 14,
     "metadata": {},
     "output_type": "execute_result"
    }
   ],
   "source": [
    "# scrape the job_title web element\n",
    "title_tags = driver.find_elements_by_xpath('//a[@class=\"title fw500 ellipsis\"]')\n",
    "len(title_tags)\n",
    "title_tags[0:10]\n",
    "\n",
    "# scrape first 10 company_names\n",
    "job_titles = []\n",
    "\n",
    "for i in title_tags:\n",
    "    job_titles.append(i.text)\n",
    "len(job_titles)\n",
    "job_titles[0:10]"
   ]
  },
  {
   "cell_type": "code",
   "execution_count": 15,
   "id": "30a8cf8a",
   "metadata": {},
   "outputs": [
    {
     "data": {
      "text/plain": [
       "['Bangalore/Bengaluru',\n",
       " 'Gurgaon/Gurugram, Bangalore/Bengaluru, Mumbai (All Areas)',\n",
       " 'Bangalore/Bengaluru',\n",
       " 'Hyderabad/Secunderabad, Pune, Chennai, Bangalore/Bengaluru',\n",
       " 'Bangalore/Bengaluru',\n",
       " 'Hyderabad/Secunderabad, Pune, Bangalore/Bengaluru\\n(WFH during Covid)',\n",
       " 'Hyderabad/Secunderabad, Pune, Bangalore/Bengaluru',\n",
       " 'Hyderabad/Secunderabad, Bangalore/Bengaluru',\n",
       " 'Bangalore/Bengaluru',\n",
       " 'Bangalore/Bengaluru']"
      ]
     },
     "execution_count": 15,
     "metadata": {},
     "output_type": "execute_result"
    }
   ],
   "source": [
    "# scrape the Location web element\n",
    "company_loc = driver.find_elements_by_xpath('//li[@class=\"fleft grey-text br2 placeHolderLi location\"]')\n",
    "len(company_loc)\n",
    "company_loc[0:10]\n",
    "\n",
    "# scrape first 10 job-locations\n",
    "job_location = []\n",
    "\n",
    "for i in company_loc:\n",
    "    job_location.append(i.text)\n",
    "len(job_location)\n",
    "job_location[0:10]"
   ]
  },
  {
   "cell_type": "code",
   "execution_count": 18,
   "id": "7e303a32",
   "metadata": {},
   "outputs": [
    {
     "data": {
      "text/plain": [
       "['Dell',\n",
       " 'Fractal Analytics',\n",
       " 'Axim Technologies',\n",
       " 'Wipro',\n",
       " 'Delhivery',\n",
       " 'Wipro',\n",
       " 'Wipro',\n",
       " 'TCS',\n",
       " 'Greenizon Agritech Consultancy',\n",
       " 'Diverse Lynx']"
      ]
     },
     "execution_count": 18,
     "metadata": {},
     "output_type": "execute_result"
    }
   ],
   "source": [
    "# scrape the company_names web element\n",
    "company_names = driver.find_elements_by_xpath('//a[@class=\"subTitle ellipsis fleft\"]')\n",
    "len(company_names)\n",
    "company_names[0:10]\n",
    "\n",
    "# scrape first 10 company_names\n",
    "Company = []\n",
    "\n",
    "for i in company_names:\n",
    "    Company.append(i.text)\n",
    "len(Company)\n",
    "Company[0:10]"
   ]
  },
  {
   "cell_type": "code",
   "execution_count": 19,
   "id": "7b4c7e20",
   "metadata": {},
   "outputs": [
    {
     "data": {
      "text/html": [
       "<div>\n",
       "<style scoped>\n",
       "    .dataframe tbody tr th:only-of-type {\n",
       "        vertical-align: middle;\n",
       "    }\n",
       "\n",
       "    .dataframe tbody tr th {\n",
       "        vertical-align: top;\n",
       "    }\n",
       "\n",
       "    .dataframe thead th {\n",
       "        text-align: right;\n",
       "    }\n",
       "</style>\n",
       "<table border=\"1\" class=\"dataframe\">\n",
       "  <thead>\n",
       "    <tr style=\"text-align: right;\">\n",
       "      <th></th>\n",
       "      <th>Job Title</th>\n",
       "      <th>Job Location</th>\n",
       "      <th>Company Name</th>\n",
       "    </tr>\n",
       "  </thead>\n",
       "  <tbody>\n",
       "    <tr>\n",
       "      <th>0</th>\n",
       "      <td>Global Tax Automation &amp; Operations | Data Scie...</td>\n",
       "      <td>Bangalore/Bengaluru</td>\n",
       "      <td>Dell</td>\n",
       "    </tr>\n",
       "    <tr>\n",
       "      <th>1</th>\n",
       "      <td>Senior Data Scientist</td>\n",
       "      <td>Gurgaon/Gurugram, Bangalore/Bengaluru, Mumbai ...</td>\n",
       "      <td>Fractal Analytics</td>\n",
       "    </tr>\n",
       "    <tr>\n",
       "      <th>2</th>\n",
       "      <td>Lead - Data Analyst / Scientist</td>\n",
       "      <td>Bangalore/Bengaluru</td>\n",
       "      <td>Axim Technologies</td>\n",
       "    </tr>\n",
       "    <tr>\n",
       "      <th>3</th>\n",
       "      <td>Job opening with Wipro For Data Scientist</td>\n",
       "      <td>Hyderabad/Secunderabad, Pune, Chennai, Bangalo...</td>\n",
       "      <td>Wipro</td>\n",
       "    </tr>\n",
       "    <tr>\n",
       "      <th>4</th>\n",
       "      <td>Data Scientist I</td>\n",
       "      <td>Bangalore/Bengaluru</td>\n",
       "      <td>Delhivery</td>\n",
       "    </tr>\n",
       "    <tr>\n",
       "      <th>5</th>\n",
       "      <td>Spark ML Data Scientist</td>\n",
       "      <td>Hyderabad/Secunderabad, Pune, Bangalore/Bengal...</td>\n",
       "      <td>Wipro</td>\n",
       "    </tr>\n",
       "    <tr>\n",
       "      <th>6</th>\n",
       "      <td>Spark ML Data Scientist</td>\n",
       "      <td>Hyderabad/Secunderabad, Pune, Bangalore/Bengaluru</td>\n",
       "      <td>Wipro</td>\n",
       "    </tr>\n",
       "    <tr>\n",
       "      <th>7</th>\n",
       "      <td>Azure ML Data Scientist</td>\n",
       "      <td>Hyderabad/Secunderabad, Bangalore/Bengaluru</td>\n",
       "      <td>TCS</td>\n",
       "    </tr>\n",
       "    <tr>\n",
       "      <th>8</th>\n",
       "      <td>Senior Data Scientist</td>\n",
       "      <td>Bangalore/Bengaluru</td>\n",
       "      <td>Greenizon Agritech Consultancy</td>\n",
       "    </tr>\n",
       "    <tr>\n",
       "      <th>9</th>\n",
       "      <td>Data Scientist</td>\n",
       "      <td>Bangalore/Bengaluru</td>\n",
       "      <td>Diverse Lynx</td>\n",
       "    </tr>\n",
       "  </tbody>\n",
       "</table>\n",
       "</div>"
      ],
      "text/plain": [
       "                                           Job Title  \\\n",
       "0  Global Tax Automation & Operations | Data Scie...   \n",
       "1                              Senior Data Scientist   \n",
       "2                    Lead - Data Analyst / Scientist   \n",
       "3          Job opening with Wipro For Data Scientist   \n",
       "4                                   Data Scientist I   \n",
       "5                            Spark ML Data Scientist   \n",
       "6                            Spark ML Data Scientist   \n",
       "7                            Azure ML Data Scientist   \n",
       "8                              Senior Data Scientist   \n",
       "9                                     Data Scientist   \n",
       "\n",
       "                                        Job Location  \\\n",
       "0                                Bangalore/Bengaluru   \n",
       "1  Gurgaon/Gurugram, Bangalore/Bengaluru, Mumbai ...   \n",
       "2                                Bangalore/Bengaluru   \n",
       "3  Hyderabad/Secunderabad, Pune, Chennai, Bangalo...   \n",
       "4                                Bangalore/Bengaluru   \n",
       "5  Hyderabad/Secunderabad, Pune, Bangalore/Bengal...   \n",
       "6  Hyderabad/Secunderabad, Pune, Bangalore/Bengaluru   \n",
       "7        Hyderabad/Secunderabad, Bangalore/Bengaluru   \n",
       "8                                Bangalore/Bengaluru   \n",
       "9                                Bangalore/Bengaluru   \n",
       "\n",
       "                     Company Name  \n",
       "0                            Dell  \n",
       "1               Fractal Analytics  \n",
       "2               Axim Technologies  \n",
       "3                           Wipro  \n",
       "4                       Delhivery  \n",
       "5                           Wipro  \n",
       "6                           Wipro  \n",
       "7                             TCS  \n",
       "8  Greenizon Agritech Consultancy  \n",
       "9                    Diverse Lynx  "
      ]
     },
     "execution_count": 19,
     "metadata": {},
     "output_type": "execute_result"
    }
   ],
   "source": [
    "jobs = pd.DataFrame()\n",
    "jobs['Job Title'] = job_titles\n",
    "jobs['Job Location'] = job_location\n",
    "jobs['Company Name'] = Company\n",
    "jobs[0:10]"
   ]
  },
  {
   "cell_type": "markdown",
   "id": "b5a9801f",
   "metadata": {},
   "source": [
    "Q3: In this question you have to scrape data using the filters available on the webpage as shown below:\n",
    "    You have to use the location and salary filter.\n",
    "    You have to scrape data for “Data Scientist” designation for first 10 job results.\n",
    "    You have to scrape the job-title, job-location, company name, experience required. The location filter to be used is “Delhi/NCR”. The salary filter to be used is “3-6” lakhs"
   ]
  },
  {
   "cell_type": "code",
   "execution_count": 94,
   "id": "21f93782",
   "metadata": {},
   "outputs": [],
   "source": [
    "# Connect to webdriver\n",
    "driver = webdriver.Chrome(r'C:\\Users\\USER\\Downloads\\chromedriver_win32\\chromedriver.exe')\n"
   ]
  },
  {
   "cell_type": "code",
   "execution_count": 59,
   "id": "78504874",
   "metadata": {},
   "outputs": [],
   "source": [
    "url = 'https://www.naukri.com/'\n",
    "driver.get(url)\n",
    "\n",
    "# finding web element for search job bar using id\n",
    "search_job = driver.find_element_by_id(\"qsb-keyword-sugg\")\n",
    "search_job\n",
    "\n",
    "# write on serach bar\n",
    "search_job.send_keys(\"Data Scientist\")\n",
    "\n",
    "# clicking using absolute xpath function\n",
    "search_btn = driver.find_element_by_xpath('/html/body/div[1]/div[3]/div[2]/section/div/form/div[3]/button')\n",
    "search_btn\n",
    "\n",
    "search_btn.click()"
   ]
  },
  {
   "cell_type": "code",
   "execution_count": 63,
   "id": "3d568683",
   "metadata": {},
   "outputs": [
    {
     "data": {
      "text/plain": [
       "<selenium.webdriver.remote.webelement.WebElement (session=\"5c394b017fe460cf361062fa6863a67f\", element=\"88487dd4-7ff1-4847-8322-075dbf0fc0f8\")>"
      ]
     },
     "execution_count": 63,
     "metadata": {},
     "output_type": "execute_result"
    }
   ],
   "source": [
    "location_check = driver.find_element_by_xpath('//span[@title=\"Delhi / NCR\"]')\n",
    "location_check"
   ]
  },
  {
   "cell_type": "code",
   "execution_count": 64,
   "id": "757cc71f",
   "metadata": {},
   "outputs": [],
   "source": [
    "location_check.click()"
   ]
  },
  {
   "cell_type": "code",
   "execution_count": 67,
   "id": "801d116c",
   "metadata": {},
   "outputs": [
    {
     "data": {
      "text/plain": [
       "<selenium.webdriver.remote.webelement.WebElement (session=\"5c394b017fe460cf361062fa6863a67f\", element=\"b678ab3d-f03b-4dd5-8731-827357282512\")>"
      ]
     },
     "execution_count": 67,
     "metadata": {},
     "output_type": "execute_result"
    }
   ],
   "source": [
    "salary_check = driver.find_element_by_xpath('//span[@title=\"3-6 Lakhs\"]')\n",
    "salary_check"
   ]
  },
  {
   "cell_type": "code",
   "execution_count": 68,
   "id": "1533947a",
   "metadata": {},
   "outputs": [],
   "source": [
    "salary_check.click()"
   ]
  },
  {
   "cell_type": "code",
   "execution_count": 69,
   "id": "27f292a7",
   "metadata": {},
   "outputs": [
    {
     "data": {
      "text/plain": [
       "['Senior Data Scientist I',\n",
       " 'Openings For Jr/mid/Sr level data Scientists',\n",
       " 'Data Scientist',\n",
       " 'Data Scientist role',\n",
       " 'Data Scientist role',\n",
       " 'Urgent Hiring For Data Scientist',\n",
       " 'Urgent Hiring For Data Scientist',\n",
       " 'Data Analyst / Data Scientist / Business Analytics / Fresher - MNC',\n",
       " 'Data Scientist Internship',\n",
       " 'Data Scientist']"
      ]
     },
     "execution_count": 69,
     "metadata": {},
     "output_type": "execute_result"
    }
   ],
   "source": [
    "# scrape the job-title web element\n",
    "title_tags = driver.find_elements_by_xpath('//a[@class=\"title fw500 ellipsis\"]')\n",
    "len(title_tags)\n",
    "title_tags[0:10]\n",
    "\n",
    "# scrape first 10 job-titles\n",
    "job_titles = []\n",
    "\n",
    "for i in title_tags:\n",
    "    job_titles.append(i.text)\n",
    "len(job_titles)\n",
    "job_titles[0:10]"
   ]
  },
  {
   "cell_type": "code",
   "execution_count": 73,
   "id": "a97ba08e",
   "metadata": {},
   "outputs": [
    {
     "data": {
      "text/plain": [
       "['Gurgaon/Gurugram',\n",
       " 'Kolkata, Hyderabad/Secunderabad, Pune, Ahmedabad, Chennai, Bangalore/Bengaluru, Delhi / NCR, Mumbai (All Areas)\\n(WFH during Covid)',\n",
       " 'Gurgaon/Gurugram, Chennai',\n",
       " 'Noida, Hyderabad/Secunderabad, Pune, Gurgaon/Gurugram, Bangalore/Bengaluru, Delhi / NCR\\n(WFH during Covid)',\n",
       " 'Noida, Hyderabad/Secunderabad, Pune, Gurgaon/Gurugram, Bangalore/Bengaluru, Delhi / NCR\\n(WFH during Covid)',\n",
       " 'Gurgaon/Gurugram, Bangalore/Bengaluru',\n",
       " 'Gurgaon/Gurugram, Bangalore/Bengaluru',\n",
       " 'Noida, New Delhi, Delhi / NCR',\n",
       " 'New Delhi',\n",
       " 'Noida, New Delhi, Faridabad, Gurgaon/Gurugram, Delhi / NCR']"
      ]
     },
     "execution_count": 73,
     "metadata": {},
     "output_type": "execute_result"
    }
   ],
   "source": [
    "# scrape the Job location web element\n",
    "location_tags = driver.find_elements_by_xpath('//li[@class=\"fleft grey-text br2 placeHolderLi location\"]')\n",
    "len(location_tags)\n",
    "location_tags[0:10]\n",
    "\n",
    "# scrape first 10 job-titles\n",
    "job_location = []\n",
    "for i in location_tags:\n",
    "    job_location.append(i.text)\n",
    "len(job_location)\n",
    "job_location[0:10]"
   ]
  },
  {
   "cell_type": "code",
   "execution_count": 75,
   "id": "6d3b2d5a",
   "metadata": {},
   "outputs": [
    {
     "data": {
      "text/plain": [
       "['Delhivery',\n",
       " 'Pluto seven business solutions (p) limited',\n",
       " 'Teleperformance',\n",
       " 'Mount Talent Consulting Private Limited',\n",
       " 'Mount Talent Consulting Private Limited',\n",
       " 'Mount Talent Consulting Private Limited',\n",
       " 'Mount Talent Consulting Private Limited',\n",
       " 'GABA Consultancy services',\n",
       " 'iHackers Inc',\n",
       " 'LG']"
      ]
     },
     "execution_count": 75,
     "metadata": {},
     "output_type": "execute_result"
    }
   ],
   "source": [
    "# scrape the Company_name web element\n",
    "company_tags = driver.find_elements_by_xpath('//a[@class=\"subTitle ellipsis fleft\"]')\n",
    "len(company_tags)\n",
    "company_tags[0:10]\n",
    "\n",
    "# scrape first 10 company_names\n",
    "company_name = []\n",
    "\n",
    "for i in company_tags:\n",
    "    company_name.append(i.text)\n",
    "len(company_name)\n",
    "company_name[0:10]"
   ]
  },
  {
   "cell_type": "code",
   "execution_count": 77,
   "id": "94059ebc",
   "metadata": {},
   "outputs": [
    {
     "data": {
      "text/plain": [
       "['3-7 Yrs',\n",
       " '2-6 Yrs',\n",
       " '4-9 Yrs',\n",
       " '1-3 Yrs',\n",
       " '1-3 Yrs',\n",
       " '1-6 Yrs',\n",
       " '1-6 Yrs',\n",
       " '0-0 Yrs',\n",
       " '0-1 Yrs',\n",
       " '0-2 Yrs']"
      ]
     },
     "execution_count": 77,
     "metadata": {},
     "output_type": "execute_result"
    }
   ],
   "source": [
    "# scrape the Experience required web element\n",
    "experience_tags = driver.find_elements_by_xpath('//li[@class=\"fleft grey-text br2 placeHolderLi experience\"]')\n",
    "len(experience_tags)\n",
    "experience_tags[0:10]\n",
    "\n",
    "experience = []\n",
    "\n",
    "for i in experience_tags:\n",
    "    experience.append(i.text)\n",
    "len(experience)\n",
    "experience[0:10]"
   ]
  },
  {
   "cell_type": "code",
   "execution_count": 78,
   "id": "23dd1307",
   "metadata": {},
   "outputs": [
    {
     "data": {
      "text/html": [
       "<div>\n",
       "<style scoped>\n",
       "    .dataframe tbody tr th:only-of-type {\n",
       "        vertical-align: middle;\n",
       "    }\n",
       "\n",
       "    .dataframe tbody tr th {\n",
       "        vertical-align: top;\n",
       "    }\n",
       "\n",
       "    .dataframe thead th {\n",
       "        text-align: right;\n",
       "    }\n",
       "</style>\n",
       "<table border=\"1\" class=\"dataframe\">\n",
       "  <thead>\n",
       "    <tr style=\"text-align: right;\">\n",
       "      <th></th>\n",
       "      <th>Job Title</th>\n",
       "      <th>Job Location</th>\n",
       "      <th>Company Name</th>\n",
       "      <th>Experience</th>\n",
       "    </tr>\n",
       "  </thead>\n",
       "  <tbody>\n",
       "    <tr>\n",
       "      <th>0</th>\n",
       "      <td>Senior Data Scientist I</td>\n",
       "      <td>Gurgaon/Gurugram</td>\n",
       "      <td>Delhivery</td>\n",
       "      <td>3-7 Yrs</td>\n",
       "    </tr>\n",
       "    <tr>\n",
       "      <th>1</th>\n",
       "      <td>Openings For Jr/mid/Sr level data Scientists</td>\n",
       "      <td>Kolkata, Hyderabad/Secunderabad, Pune, Ahmedab...</td>\n",
       "      <td>Pluto seven business solutions (p) limited</td>\n",
       "      <td>2-6 Yrs</td>\n",
       "    </tr>\n",
       "    <tr>\n",
       "      <th>2</th>\n",
       "      <td>Data Scientist</td>\n",
       "      <td>Gurgaon/Gurugram, Chennai</td>\n",
       "      <td>Teleperformance</td>\n",
       "      <td>4-9 Yrs</td>\n",
       "    </tr>\n",
       "    <tr>\n",
       "      <th>3</th>\n",
       "      <td>Data Scientist role</td>\n",
       "      <td>Noida, Hyderabad/Secunderabad, Pune, Gurgaon/G...</td>\n",
       "      <td>Mount Talent Consulting Private Limited</td>\n",
       "      <td>1-3 Yrs</td>\n",
       "    </tr>\n",
       "    <tr>\n",
       "      <th>4</th>\n",
       "      <td>Data Scientist role</td>\n",
       "      <td>Noida, Hyderabad/Secunderabad, Pune, Gurgaon/G...</td>\n",
       "      <td>Mount Talent Consulting Private Limited</td>\n",
       "      <td>1-3 Yrs</td>\n",
       "    </tr>\n",
       "    <tr>\n",
       "      <th>5</th>\n",
       "      <td>Urgent Hiring For Data Scientist</td>\n",
       "      <td>Gurgaon/Gurugram, Bangalore/Bengaluru</td>\n",
       "      <td>Mount Talent Consulting Private Limited</td>\n",
       "      <td>1-6 Yrs</td>\n",
       "    </tr>\n",
       "    <tr>\n",
       "      <th>6</th>\n",
       "      <td>Urgent Hiring For Data Scientist</td>\n",
       "      <td>Gurgaon/Gurugram, Bangalore/Bengaluru</td>\n",
       "      <td>Mount Talent Consulting Private Limited</td>\n",
       "      <td>1-6 Yrs</td>\n",
       "    </tr>\n",
       "    <tr>\n",
       "      <th>7</th>\n",
       "      <td>Data Analyst / Data Scientist / Business Analy...</td>\n",
       "      <td>Noida, New Delhi, Delhi / NCR</td>\n",
       "      <td>GABA Consultancy services</td>\n",
       "      <td>0-0 Yrs</td>\n",
       "    </tr>\n",
       "    <tr>\n",
       "      <th>8</th>\n",
       "      <td>Data Scientist Internship</td>\n",
       "      <td>New Delhi</td>\n",
       "      <td>iHackers Inc</td>\n",
       "      <td>0-1 Yrs</td>\n",
       "    </tr>\n",
       "    <tr>\n",
       "      <th>9</th>\n",
       "      <td>Data Scientist</td>\n",
       "      <td>Noida, New Delhi, Faridabad, Gurgaon/Gurugram,...</td>\n",
       "      <td>LG</td>\n",
       "      <td>0-2 Yrs</td>\n",
       "    </tr>\n",
       "  </tbody>\n",
       "</table>\n",
       "</div>"
      ],
      "text/plain": [
       "                                           Job Title  \\\n",
       "0                            Senior Data Scientist I   \n",
       "1       Openings For Jr/mid/Sr level data Scientists   \n",
       "2                                     Data Scientist   \n",
       "3                                Data Scientist role   \n",
       "4                                Data Scientist role   \n",
       "5                   Urgent Hiring For Data Scientist   \n",
       "6                   Urgent Hiring For Data Scientist   \n",
       "7  Data Analyst / Data Scientist / Business Analy...   \n",
       "8                          Data Scientist Internship   \n",
       "9                                     Data Scientist   \n",
       "\n",
       "                                        Job Location  \\\n",
       "0                                   Gurgaon/Gurugram   \n",
       "1  Kolkata, Hyderabad/Secunderabad, Pune, Ahmedab...   \n",
       "2                          Gurgaon/Gurugram, Chennai   \n",
       "3  Noida, Hyderabad/Secunderabad, Pune, Gurgaon/G...   \n",
       "4  Noida, Hyderabad/Secunderabad, Pune, Gurgaon/G...   \n",
       "5              Gurgaon/Gurugram, Bangalore/Bengaluru   \n",
       "6              Gurgaon/Gurugram, Bangalore/Bengaluru   \n",
       "7                      Noida, New Delhi, Delhi / NCR   \n",
       "8                                          New Delhi   \n",
       "9  Noida, New Delhi, Faridabad, Gurgaon/Gurugram,...   \n",
       "\n",
       "                                 Company Name Experience  \n",
       "0                                   Delhivery    3-7 Yrs  \n",
       "1  Pluto seven business solutions (p) limited    2-6 Yrs  \n",
       "2                             Teleperformance    4-9 Yrs  \n",
       "3     Mount Talent Consulting Private Limited    1-3 Yrs  \n",
       "4     Mount Talent Consulting Private Limited    1-3 Yrs  \n",
       "5     Mount Talent Consulting Private Limited    1-6 Yrs  \n",
       "6     Mount Talent Consulting Private Limited    1-6 Yrs  \n",
       "7                   GABA Consultancy services    0-0 Yrs  \n",
       "8                                iHackers Inc    0-1 Yrs  \n",
       "9                                          LG    0-2 Yrs  "
      ]
     },
     "execution_count": 78,
     "metadata": {},
     "output_type": "execute_result"
    }
   ],
   "source": [
    "jobs = pd.DataFrame()\n",
    "jobs['Job Title'] = job_titles\n",
    "jobs['Job Location'] = job_location\n",
    "jobs['Company Name'] = company_name\n",
    "jobs['Experience'] = experience\n",
    "jobs[0:10]"
   ]
  },
  {
   "cell_type": "markdown",
   "id": "64efbfe8",
   "metadata": {},
   "source": [
    "Q.4 Scrape data of first 100 sunglasses listings on flipkart.com. You have to scrape four attributes:\n",
    "1. Brand\n",
    "2. Product Description\n",
    "3. Price"
   ]
  },
  {
   "cell_type": "code",
   "execution_count": 4,
   "id": "14a120aa",
   "metadata": {},
   "outputs": [],
   "source": [
    "url = 'https://www.flipkart.com/'\n",
    "driver.get(url)\n",
    "\n",
    "#finding web element for search bar using id\n",
    "search_bar = driver.find_element_by_xpath(\"/html/body/div[1]/div/div[1]/div[1]/div[2]/div[2]/form/div/div/input\")\n",
    "\n",
    "# write on serach bar\n",
    "search_bar.send_keys(\"Sunglasses\")"
   ]
  },
  {
   "cell_type": "code",
   "execution_count": 1,
   "id": "76ee5464",
   "metadata": {},
   "outputs": [],
   "source": [
    "import selenium\n",
    "from selenium import webdriver\n",
    "import pandas as pd\n",
    "import warnings\n",
    "from time import sleep\n",
    "warnings.filterwarnings(\"ignore\")"
   ]
  },
  {
   "cell_type": "code",
   "execution_count": 2,
   "id": "64d6f3c0",
   "metadata": {},
   "outputs": [],
   "source": [
    "# Connect to webdriver\n",
    "driver = webdriver.Chrome(r'C:\\Users\\USER\\Downloads\\chromedriver_win32 (1)\\chromedriver.exe')"
   ]
  },
  {
   "cell_type": "code",
   "execution_count": 4,
   "id": "46d8dd2d",
   "metadata": {},
   "outputs": [],
   "source": [
    "url = 'https://www.flipkart.com/'\n",
    "driver.get(url)\n",
    "\n",
    "#finding web element for search bar using id\n",
    "search_bar = driver.find_element_by_xpath(\"/html/body/div[1]/div/div[1]/div[1]/div[2]/div[2]/form/div/div/input\")\n",
    "\n",
    "# write on serach bar\n",
    "search_bar.send_keys(\"Sunglasses\")"
   ]
  },
  {
   "cell_type": "code",
   "execution_count": 71,
   "id": "3b94fd4d",
   "metadata": {},
   "outputs": [
    {
     "name": "stdout",
     "output_type": "stream",
     "text": [
      "srapping page 1\n",
      "srapping page 2\n",
      "srapping page 3\n"
     ]
    }
   ],
   "source": [
    "Prices = []\n",
    "\n",
    "for i in range(0,3):\n",
    "    print('srapping page',i+1)\n",
    "    price=driver.find_elements_by_xpath(\"//div[@class='_30jeq3']\")\n",
    "    for p in price:\n",
    "        Prices.append(p.text)\n",
    "    nxt_button = driver.find_elements_by_xpath(\"//a[@class='_1LKTO3']\")\n",
    "        \n",
    "    try:\n",
    "\n",
    "        driver.get(nxt_button[1].get_attribute('href'))\n",
    "\n",
    "    except:\n",
    "       \n",
    "        driver.get(nxt_button[0].get_attribute('href'))\n",
    "       "
   ]
  },
  {
   "cell_type": "code",
   "execution_count": 72,
   "id": "4b757702",
   "metadata": {},
   "outputs": [
    {
     "data": {
      "text/plain": [
       "120"
      ]
     },
     "execution_count": 72,
     "metadata": {},
     "output_type": "execute_result"
    }
   ],
   "source": [
    "len(Prices)"
   ]
  },
  {
   "cell_type": "code",
   "execution_count": 73,
   "id": "5e113ece",
   "metadata": {},
   "outputs": [
    {
     "data": {
      "text/plain": [
       "['₹225',\n",
       " '₹164',\n",
       " '₹472',\n",
       " '₹383',\n",
       " '₹549',\n",
       " '₹296',\n",
       " '₹711',\n",
       " '₹594',\n",
       " '₹199',\n",
       " '₹1,199',\n",
       " '₹236',\n",
       " '₹999',\n",
       " '₹236',\n",
       " '₹949',\n",
       " '₹189',\n",
       " '₹1,499',\n",
       " '₹224',\n",
       " '₹1,049',\n",
       " '₹186',\n",
       " '₹449',\n",
       " '₹250',\n",
       " '₹359',\n",
       " '₹999',\n",
       " '₹999',\n",
       " '₹296',\n",
       " '₹259',\n",
       " '₹459',\n",
       " '₹426',\n",
       " '₹1,139',\n",
       " '₹1,148',\n",
       " '₹279',\n",
       " '₹999',\n",
       " '₹575',\n",
       " '₹359',\n",
       " '₹189',\n",
       " '₹359',\n",
       " '₹664',\n",
       " '₹179',\n",
       " '₹759',\n",
       " '₹649',\n",
       " '₹187',\n",
       " '₹699',\n",
       " '₹249',\n",
       " '₹383',\n",
       " '₹359',\n",
       " '₹426',\n",
       " '₹359',\n",
       " '₹594',\n",
       " '₹175',\n",
       " '₹1,229',\n",
       " '₹188',\n",
       " '₹999',\n",
       " '₹245',\n",
       " '₹1,161',\n",
       " '₹759',\n",
       " '₹449',\n",
       " '₹694',\n",
       " '₹261',\n",
       " '₹538',\n",
       " '₹999',\n",
       " '₹243',\n",
       " '₹749',\n",
       " '₹639',\n",
       " '₹426',\n",
       " '₹426',\n",
       " '₹769',\n",
       " '₹410',\n",
       " '₹359',\n",
       " '₹474',\n",
       " '₹199',\n",
       " '₹664',\n",
       " '₹649',\n",
       " '₹472',\n",
       " '₹664',\n",
       " '₹703',\n",
       " '₹999',\n",
       " '₹194',\n",
       " '₹639',\n",
       " '₹497',\n",
       " '₹173',\n",
       " '₹472',\n",
       " '₹207',\n",
       " '₹314',\n",
       " '₹383',\n",
       " '₹680',\n",
       " '₹496',\n",
       " '₹467',\n",
       " '₹594',\n",
       " '₹426',\n",
       " '₹275',\n",
       " '₹185',\n",
       " '₹999',\n",
       " '₹261',\n",
       " '₹377',\n",
       " '₹664',\n",
       " '₹449',\n",
       " '₹170',\n",
       " '₹449',\n",
       " '₹9,259',\n",
       " '₹999']"
      ]
     },
     "execution_count": 73,
     "metadata": {},
     "output_type": "execute_result"
    }
   ],
   "source": [
    "Prices[:100]"
   ]
  },
  {
   "cell_type": "code",
   "execution_count": 79,
   "id": "45d5eae4",
   "metadata": {},
   "outputs": [
    {
     "name": "stdout",
     "output_type": "stream",
     "text": [
      "srapping page 1\n",
      "srapping page 2\n",
      "srapping page 3\n"
     ]
    }
   ],
   "source": [
    "Products = []\n",
    "\n",
    "for i in range(0,3):\n",
    "    print('srapping page',i+1)\n",
    "    product=driver.find_elements_by_xpath(\"//div[@class='_2WkVRV']\")\n",
    "    for p in product:\n",
    "        Products.append(p.text)\n",
    "    nxt_button = driver.find_elements_by_xpath(\"//a[@class='_1LKTO3']\")\n",
    "        \n",
    "    try:\n",
    "\n",
    "        driver.get(nxt_button[1].get_attribute('href'))\n",
    "\n",
    "    except:\n",
    "       \n",
    "        driver.get(nxt_button[0].get_attribute('href'))\n",
    "       "
   ]
  },
  {
   "cell_type": "code",
   "execution_count": 80,
   "id": "c5f6ec4d",
   "metadata": {},
   "outputs": [
    {
     "data": {
      "text/plain": [
       "120"
      ]
     },
     "execution_count": 80,
     "metadata": {},
     "output_type": "execute_result"
    }
   ],
   "source": [
    "len(Products)"
   ]
  },
  {
   "cell_type": "code",
   "execution_count": 81,
   "id": "32dabe40",
   "metadata": {},
   "outputs": [
    {
     "data": {
      "text/plain": [
       "['VINCENT CHASE',\n",
       " 'FARENHEIT',\n",
       " 'Fastrack',\n",
       " 'SRPM',\n",
       " 'Fastrack',\n",
       " 'Elligator',\n",
       " 'PIRASO',\n",
       " 'LOUIS KOUROS',\n",
       " 'New Specs',\n",
       " 'kingsunglasses',\n",
       " 'SUNBEE',\n",
       " 'ROZZETTA CRAFT',\n",
       " 'kingsunglasses',\n",
       " 'PIRASO',\n",
       " 'ROZZETTA CRAFT',\n",
       " 'VILLAIN',\n",
       " 'PHENOMENAL',\n",
       " 'PIRASO',\n",
       " 'Fastrack',\n",
       " 'VINCENT CHASE',\n",
       " 'SHAAH COLLECTIONS',\n",
       " 'PHENOMENAL',\n",
       " 'ROZZETTA CRAFT',\n",
       " 'ROZZETTA CRAFT',\n",
       " 'ROYAL SON',\n",
       " 'Fastrack',\n",
       " 'PIRASO',\n",
       " 'VINCENT CHASE',\n",
       " 'Rich Club',\n",
       " 'Johaena',\n",
       " 'kingsunglasses',\n",
       " 'ROYAL SON',\n",
       " 'hipe',\n",
       " 'Singco India',\n",
       " 'PHENOMENAL',\n",
       " 'ROZZETTA CRAFT',\n",
       " 'SUNBEE',\n",
       " 'kingsunglasses',\n",
       " 'hipe',\n",
       " 'ZOSTAL',\n",
       " 'Fastrack',\n",
       " 'ROYAL SON',\n",
       " 'ROZZETTA CRAFT',\n",
       " 'ROZZETTA CRAFT',\n",
       " 'ROYAL SON',\n",
       " 'kingsunglasses',\n",
       " 'Silver Kartz',\n",
       " 'FARENHEIT',\n",
       " 'Rich Club',\n",
       " 'maxa',\n",
       " 'ROYAL SON',\n",
       " 'VINCENT CHASE',\n",
       " 'ROZZETTA CRAFT',\n",
       " 'GANSTA',\n",
       " 'ROYAL SON',\n",
       " 'ROZZETTA CRAFT',\n",
       " 'Elligator',\n",
       " 'Singco India',\n",
       " 'New Specs',\n",
       " 'VINCENT CHASE',\n",
       " 'ROZZETTA CRAFT',\n",
       " 'kingsunglasses',\n",
       " 'New Specs',\n",
       " 'ROZZETTA CRAFT',\n",
       " 'ROZZETTA CRAFT',\n",
       " 'ROZZETTA CRAFT',\n",
       " 'hipe',\n",
       " 'ROYAL SON',\n",
       " 'PHENOMENAL',\n",
       " 'Elligator',\n",
       " 'Elligator',\n",
       " 'ROZZETTA CRAFT',\n",
       " 'Singco',\n",
       " 'Lee Topper',\n",
       " 'Fastrack',\n",
       " 'VINCENT CHASE',\n",
       " 'Fravy',\n",
       " 'Silver Kartz',\n",
       " 'NuVew',\n",
       " 'ZOSTAL',\n",
       " 'ROZZETTA CRAFT',\n",
       " 'ROYAL SON',\n",
       " 'SRPM',\n",
       " 'ROZZETTA CRAFT',\n",
       " 'Fastrack',\n",
       " 'Elligator',\n",
       " 'Rich Club',\n",
       " 'FARENHEIT',\n",
       " 'SUNBEE',\n",
       " 'IDEE',\n",
       " 'Singco India',\n",
       " 'VINCENT CHASE',\n",
       " 'Fastrack',\n",
       " 'WROGN',\n",
       " 'elegante',\n",
       " 'ROZZETTA CRAFT',\n",
       " 'IDEE',\n",
       " 'Lee Topper',\n",
       " 'NuVew',\n",
       " 'VILLAIN']"
      ]
     },
     "execution_count": 81,
     "metadata": {},
     "output_type": "execute_result"
    }
   ],
   "source": [
    "Products[:100]"
   ]
  },
  {
   "cell_type": "code",
   "execution_count": 58,
   "id": "a7c54746",
   "metadata": {},
   "outputs": [
    {
     "name": "stdout",
     "output_type": "stream",
     "text": [
      "srapping page 1\n",
      "srapping page 2\n",
      "srapping page 3\n"
     ]
    }
   ],
   "source": [
    "Description = []\n",
    "\n",
    "for i in range(0,3):\n",
    "    print('srapping page',i+1)\n",
    "    desc = driver.find_elements_by_xpath(\"//a[@class='IRpwTa']\")\n",
    "    for d in desc:\n",
    "        Description.append(d.text)\n",
    "    nxt_button = driver.find_elements_by_xpath(\"//a[@class='_1LKTO3']\")\n",
    "        \n",
    "    try:\n",
    "\n",
    "        driver.get(nxt_button[1].get_attribute('href'))\n",
    "\n",
    "    except:\n",
    "       \n",
    "        driver.get(nxt_button[0].get_attribute('href'))"
   ]
  },
  {
   "cell_type": "code",
   "execution_count": 59,
   "id": "ebd0a891",
   "metadata": {},
   "outputs": [
    {
     "data": {
      "text/plain": [
       "120"
      ]
     },
     "execution_count": 59,
     "metadata": {},
     "output_type": "execute_result"
    }
   ],
   "source": [
    "len(Description)"
   ]
  },
  {
   "cell_type": "code",
   "execution_count": 60,
   "id": "160a628b",
   "metadata": {},
   "outputs": [
    {
     "data": {
      "text/plain": [
       "['by Lenskart UV Protection Aviator Sunglasses (53)',\n",
       " 'UV Protection Retro Square Sunglasses (56)',\n",
       " 'UV Protection Wayfarer Sunglasses (Free Size)',\n",
       " 'UV Protection Wayfarer Sunglasses (56)',\n",
       " 'UV Protection Round Sunglasses (54)',\n",
       " 'UV Protection, Polarized, Mirrored Rectangular Sunglass...',\n",
       " 'UV Protection Aviator Sunglasses (54)',\n",
       " 'UV Protection Spectacle Sunglasses (Free Size)',\n",
       " 'UV Protection Rectangular Sunglasses (Free Size)',\n",
       " 'Mirrored, UV Protection Wayfarer Sunglasses (53)',\n",
       " 'UV Protection Round Sunglasses (54)',\n",
       " 'by Lenskart UV Protection Aviator Sunglasses (Free Size...',\n",
       " 'UV Protection, Polarized, Mirrored Round Sunglasses (Fr...',\n",
       " 'UV Protection Retro Square Sunglasses (Free Size)',\n",
       " 'UV Protection, Gradient Rectangular Sunglasses (Free Si...',\n",
       " 'UV Protection, Gradient Retro Square Sunglasses (Free S...',\n",
       " 'UV Protection Aviator Sunglasses (54)',\n",
       " 'UV Protection Wayfarer Sunglasses (32)',\n",
       " 'UV Protection Aviator Sunglasses (Free Size)',\n",
       " 'UV Protection Aviator Sunglasses (Free Size)',\n",
       " 'UV Protection, Polarized, Mirrored Rectangular Sunglass...',\n",
       " 'Mirrored, UV Protection, Riding Glasses, Others Round S...',\n",
       " 'UV Protection, Mirrored Retro Square Sunglasses (53)',\n",
       " 'UV Protection, Polarized Rectangular Sunglasses (Free S...',\n",
       " 'UV Protection Aviator Sunglasses (54)',\n",
       " 'UV Protection Retro Square Sunglasses (Free Size)',\n",
       " 'UV Protection Rectangular Sunglasses (58)',\n",
       " 'by Lenskart Polarized, UV Protection Aviator Sunglasses...',\n",
       " 'UV Protection Aviator Sunglasses (58)',\n",
       " 'UV Protection Shield Sunglasses (Free Size)',\n",
       " 'Mirrored Aviator Sunglasses (55)',\n",
       " 'UV Protection Oval Sunglasses (Free Size)',\n",
       " 'Riding Glasses, UV Protection Oval Sunglasses (48)',\n",
       " 'Polarized Round Sunglasses (48)',\n",
       " 'UV Protection Rectangular Sunglasses (Free Size)',\n",
       " 'UV Protection Retro Square Sunglasses (88)',\n",
       " 'UV Protection Aviator Sunglasses (58)',\n",
       " 'UV Protection Butterfly Sunglasses (65)',\n",
       " 'Mirrored Aviator Sunglasses (55)',\n",
       " 'UV Protection, Gradient Rectangular Sunglasses (Free Si...',\n",
       " 'Gradient, UV Protection Wayfarer Sunglasses (Free Size)',\n",
       " 'UV Protection Round Sunglasses (50)',\n",
       " 'UV Protection, Polarized, Mirrored Wayfarer Sunglasses ...',\n",
       " 'UV Protection, Gradient Rectangular Sunglasses (Free Si...',\n",
       " 'UV Protection, Gradient Round Sunglasses (Free Size)',\n",
       " 'UV Protection, Riding Glasses, Mirrored Wayfarer Sungla...',\n",
       " 'UV Protection, Polarized, Mirrored Retro Square Sunglas...',\n",
       " 'UV Protection Spectacle Sunglasses (Free Size)',\n",
       " 'UV Protection Retro Square Sunglasses (Free Size)',\n",
       " 'UV Protection Wrap-around Sunglasses (63)',\n",
       " 'UV Protection, Gradient Rectangular Sunglasses (Free Si...',\n",
       " 'UV Protection Retro Square Sunglasses (56)',\n",
       " 'UV Protection Retro Square Sunglasses (58)',\n",
       " 'UV Protection Retro Square Sunglasses (58)',\n",
       " 'Mirrored, UV Protection Wayfarer Sunglasses (Free Size)',\n",
       " 'by Lenskart UV Protection Aviator Sunglasses (53)',\n",
       " 'Polarized Round Sunglasses (48)',\n",
       " 'UV Protection Wayfarer Sunglasses (Free Size)',\n",
       " 'UV Protection, Riding Glasses Rectangular, Wayfarer, Ov...',\n",
       " 'UV Protection, Gradient Retro Square Sunglasses (Free S...',\n",
       " 'UV Protection Round Sunglasses (55)',\n",
       " 'Riding Glasses, UV Protection, Others Aviator Sunglasse...',\n",
       " 'UV Protection Rectangular Sunglasses (Free Size)',\n",
       " 'UV Protection Aviator Sunglasses (Free Size)',\n",
       " 'UV Protection Round Sunglasses (Free Size)',\n",
       " 'UV Protection Aviator, Wayfarer Sunglasses (Free Size)',\n",
       " 'UV Protection, Riding Glasses Wayfarer Sunglasses (53)',\n",
       " 'by Lenskart UV Protection Aviator Sunglasses (Free Size...',\n",
       " 'UV Protection, Gradient Butterfly Sunglasses (57)',\n",
       " 'Mirrored, UV Protection Round Sunglasses (Free Size)',\n",
       " 'UV Protection, Gradient Round Sunglasses (Free Size)',\n",
       " 'by Lenskart Polarized, UV Protection Aviator Sunglasses...',\n",
       " 'UV Protection, Gradient, Mirrored, Riding Glasses Aviat...',\n",
       " 'Mirrored, UV Protection Aviator Sunglasses (56)',\n",
       " 'UV Protection Retro Square, Round Sunglasses (54)',\n",
       " 'Mirrored Aviator Sunglasses (55)',\n",
       " 'UV Protection, Mirrored Clubmaster Sunglasses (Free Siz...',\n",
       " 'UV Protection Rectangular Sunglasses (Free Size)',\n",
       " 'UV Protection Round Sunglasses (Free Size)',\n",
       " 'UV Protection Oval Sunglasses (Free Size)',\n",
       " 'UV Protection, Mirrored Aviator Sunglasses (Free Size)',\n",
       " 'UV Protection Oval Sunglasses (56)',\n",
       " 'UV Protection, Gradient, Night Vision Retro Square Sung...',\n",
       " 'UV Protection, Gradient Rectangular Sunglasses (Free Si...',\n",
       " 'UV Protection Sports Sunglasses (73)',\n",
       " 'UV Protection Aviator Sunglasses (58)',\n",
       " 'UV Protection Rectangular Sunglasses (55)',\n",
       " 'UV Protection Retro Square Sunglasses (56)',\n",
       " 'UV Protection Rectangular Sunglasses (Free Size)',\n",
       " 'UV Protection, Others Round Sunglasses (48)',\n",
       " 'UV Protection, Riding Glasses Rectangular, Retro Square...',\n",
       " 'UV Protection Spectacle Sunglasses (Free Size)',\n",
       " 'UV Protection, Gradient Butterfly Sunglasses (52)',\n",
       " 'UV Protection Aviator Sunglasses (58)',\n",
       " 'UV Protection, Polarized, Mirrored Wayfarer Sunglasses ...',\n",
       " 'by Lenskart UV Protection Aviator Sunglasses (53)',\n",
       " 'UV Protection Round Sunglasses (Free Size)',\n",
       " 'Mirrored, Gradient, Riding Glasses Round Sunglasses (55...',\n",
       " 'UV Protection Rectangular Sunglasses (Free Size)',\n",
       " 'Polarized, UV Protection Retro Square Sunglasses (Free ...']"
      ]
     },
     "execution_count": 60,
     "metadata": {},
     "output_type": "execute_result"
    }
   ],
   "source": [
    "Description[:100]"
   ]
  },
  {
   "cell_type": "code",
   "execution_count": 82,
   "id": "1b8b9852",
   "metadata": {},
   "outputs": [
    {
     "data": {
      "text/plain": [
       "(120, 120, 120)"
      ]
     },
     "execution_count": 82,
     "metadata": {},
     "output_type": "execute_result"
    }
   ],
   "source": [
    "len(Products),len(Description),len(Prices)"
   ]
  },
  {
   "cell_type": "markdown",
   "id": "bbe5e422",
   "metadata": {},
   "source": [
    "Q5: Scrape 100 reviews data from flipkart.com for iphone11 phone.\n",
    "\n",
    "As shown in the above page you have to scrape the tick marked attributes.These are:\n",
    "1. Rating\n",
    "2. Review summary\n",
    "3. Full review\n",
    "4. You have to scrape this data for first 100 reviews."
   ]
  },
  {
   "cell_type": "code",
   "execution_count": 111,
   "id": "32e3a965",
   "metadata": {},
   "outputs": [],
   "source": [
    "# Connect to webdriver\n",
    "driver = webdriver.Chrome(r'C:\\Users\\USER\\Downloads\\chromedriver_win32 (1)\\chromedriver.exe')"
   ]
  },
  {
   "cell_type": "code",
   "execution_count": 116,
   "id": "83bc4f91",
   "metadata": {},
   "outputs": [],
   "source": [
    "url = 'https://www.flipkart.com/apple-iphone-11-black-64-gb-includes- earpods-power- adapter/p/itm0f37c2240b217?pid=MOBFKCTSVZAXUHGR&lid=LSTMOBFKC TSVZAXUHGREPBFGI&marketplace/'\n",
    "driver.get(url)"
   ]
  },
  {
   "cell_type": "code",
   "execution_count": 104,
   "id": "074a89cf",
   "metadata": {},
   "outputs": [
    {
     "name": "stdout",
     "output_type": "stream",
     "text": [
      "srapping page 1\n",
      "srapping page 2\n",
      "srapping page 3\n",
      "srapping page 4\n",
      "srapping page 5\n",
      "srapping page 6\n",
      "srapping page 7\n",
      "srapping page 8\n",
      "srapping page 9\n",
      "srapping page 10\n",
      "srapping page 11\n"
     ]
    }
   ],
   "source": [
    "Rating = []\n",
    "\n",
    "for i in range(0,11):\n",
    "    print('srapping page',i+1)\n",
    "    rank = driver.find_elements_by_xpath(\"//div[@class='_3LWZlK _1BLPMq']\")\n",
    "    for r in rank:\n",
    "        Rating.append(r.text)\n",
    "    nxt_button = driver.find_elements_by_xpath(\"//a[@class='_1LKTO3']\")\n",
    "        \n",
    "    try:\n",
    "\n",
    "        driver.get(nxt_button[1].get_attribute('href'))\n",
    "\n",
    "    except:\n",
    "       \n",
    "        driver.get(nxt_button[0].get_attribute('href'))"
   ]
  },
  {
   "cell_type": "code",
   "execution_count": 120,
   "id": "0222972a",
   "metadata": {},
   "outputs": [
    {
     "data": {
      "text/plain": [
       "107"
      ]
     },
     "execution_count": 120,
     "metadata": {},
     "output_type": "execute_result"
    }
   ],
   "source": [
    "len(Rating)"
   ]
  },
  {
   "cell_type": "code",
   "execution_count": 106,
   "id": "09967337",
   "metadata": {},
   "outputs": [
    {
     "data": {
      "text/plain": [
       "['5',\n",
       " '5',\n",
       " '5',\n",
       " '5',\n",
       " '5',\n",
       " '5',\n",
       " '5',\n",
       " '4',\n",
       " '5',\n",
       " '5',\n",
       " '5',\n",
       " '5',\n",
       " '5',\n",
       " '5',\n",
       " '5',\n",
       " '5',\n",
       " '5',\n",
       " '5',\n",
       " '5',\n",
       " '5',\n",
       " '5',\n",
       " '5',\n",
       " '4',\n",
       " '5',\n",
       " '5',\n",
       " '5',\n",
       " '4',\n",
       " '5',\n",
       " '5',\n",
       " '5',\n",
       " '5',\n",
       " '5',\n",
       " '5',\n",
       " '5',\n",
       " '5',\n",
       " '5',\n",
       " '5',\n",
       " '4',\n",
       " '5',\n",
       " '5',\n",
       " '5',\n",
       " '5',\n",
       " '5',\n",
       " '5',\n",
       " '5',\n",
       " '5',\n",
       " '5',\n",
       " '4',\n",
       " '5',\n",
       " '5',\n",
       " '5',\n",
       " '5',\n",
       " '4',\n",
       " '5',\n",
       " '5',\n",
       " '5',\n",
       " '5',\n",
       " '5',\n",
       " '5',\n",
       " '5',\n",
       " '5',\n",
       " '5',\n",
       " '5',\n",
       " '5',\n",
       " '4',\n",
       " '5',\n",
       " '5',\n",
       " '5',\n",
       " '4',\n",
       " '5',\n",
       " '5',\n",
       " '5',\n",
       " '5',\n",
       " '4',\n",
       " '5',\n",
       " '5',\n",
       " '5',\n",
       " '5',\n",
       " '4',\n",
       " '5',\n",
       " '5',\n",
       " '5',\n",
       " '5',\n",
       " '5',\n",
       " '4',\n",
       " '5',\n",
       " '5',\n",
       " '5',\n",
       " '5',\n",
       " '5',\n",
       " '5',\n",
       " '5',\n",
       " '5',\n",
       " '5',\n",
       " '5',\n",
       " '3',\n",
       " '5',\n",
       " '5',\n",
       " '5',\n",
       " '5']"
      ]
     },
     "execution_count": 106,
     "metadata": {},
     "output_type": "execute_result"
    }
   ],
   "source": [
    "len(Rating)\n",
    "Rating[:100]"
   ]
  },
  {
   "cell_type": "code",
   "execution_count": 113,
   "id": "0bda9c01",
   "metadata": {},
   "outputs": [
    {
     "name": "stdout",
     "output_type": "stream",
     "text": [
      "srapping page 1\n",
      "srapping page 2\n",
      "srapping page 3\n",
      "srapping page 4\n",
      "srapping page 5\n",
      "srapping page 6\n",
      "srapping page 7\n",
      "srapping page 8\n",
      "srapping page 9\n",
      "srapping page 10\n",
      "srapping page 11\n"
     ]
    }
   ],
   "source": [
    "# scrape the Review Summary web element\n",
    "Review_Summary = []\n",
    "\n",
    "for i in range(0,11):\n",
    "    print('srapping page',i+1)\n",
    "    Summary = driver.find_elements_by_xpath(\"//p[@class='_2-N8zT']\")\n",
    "    for s in Summary:\n",
    "        Review_Summary.append(s.text)\n",
    "    nxt_button = driver.find_elements_by_xpath(\"//a[@class='_1LKTO3']\")\n",
    "        \n",
    "    try:\n",
    "\n",
    "        driver.get(nxt_button[1].get_attribute('href'))\n",
    "\n",
    "    except:\n",
    "       \n",
    "        driver.get(nxt_button[0].get_attribute('href'))"
   ]
  },
  {
   "cell_type": "code",
   "execution_count": 114,
   "id": "dd1b87ca",
   "metadata": {},
   "outputs": [
    {
     "data": {
      "text/plain": [
       "110"
      ]
     },
     "execution_count": 114,
     "metadata": {},
     "output_type": "execute_result"
    }
   ],
   "source": [
    "len(Review_Summary)\n"
   ]
  },
  {
   "cell_type": "code",
   "execution_count": 115,
   "id": "20b2abe8",
   "metadata": {},
   "outputs": [
    {
     "data": {
      "text/plain": [
       "['Brilliant',\n",
       " 'Simply awesome',\n",
       " 'Perfect product!',\n",
       " 'Best in the market!',\n",
       " 'Worth every penny',\n",
       " 'Fabulous!',\n",
       " 'Great product',\n",
       " 'Good choice',\n",
       " 'Worth every penny',\n",
       " 'Highly recommended',\n",
       " 'Highly recommended',\n",
       " 'Perfect product!',\n",
       " 'Perfect product!',\n",
       " 'Highly recommended',\n",
       " 'Perfect product!',\n",
       " 'Worth every penny',\n",
       " 'Classy product',\n",
       " 'Simply awesome',\n",
       " 'Worth every penny',\n",
       " 'Worth every penny',\n",
       " 'Wonderful',\n",
       " 'Terrific',\n",
       " 'Nice product',\n",
       " 'Perfect product!',\n",
       " 'Classy product',\n",
       " 'Brilliant',\n",
       " 'Good choice',\n",
       " 'Must buy!',\n",
       " 'Wonderful',\n",
       " 'Perfect product!',\n",
       " 'Terrific purchase',\n",
       " 'Simply awesome',\n",
       " 'Great product',\n",
       " 'Terrific purchase',\n",
       " 'Mind-blowing purchase',\n",
       " 'Excellent',\n",
       " 'Simply awesome',\n",
       " 'Good quality product',\n",
       " 'Very poor',\n",
       " 'Classy product',\n",
       " 'Perfect product!',\n",
       " 'Must buy!',\n",
       " 'Fabulous!',\n",
       " 'Mind-blowing purchase',\n",
       " 'Mind-blowing purchase',\n",
       " 'Wonderful',\n",
       " 'Must buy!',\n",
       " 'Great product',\n",
       " 'Very Good',\n",
       " 'Classy product',\n",
       " 'Perfect product!',\n",
       " 'Just wow!',\n",
       " 'Awesome',\n",
       " 'Pretty good',\n",
       " 'Terrific purchase',\n",
       " 'Awesome',\n",
       " 'Classy product',\n",
       " 'Brilliant',\n",
       " 'Terrific',\n",
       " 'Perfect product!',\n",
       " 'Awesome',\n",
       " 'Perfect product!',\n",
       " 'Very poor',\n",
       " 'Fabulous!',\n",
       " 'Excellent',\n",
       " 'Must buy!',\n",
       " 'Value-for-money',\n",
       " 'Best in the market!',\n",
       " 'Brilliant',\n",
       " 'Terrific purchase',\n",
       " 'Good quality product',\n",
       " 'Terrific',\n",
       " 'Best in the market!',\n",
       " 'Perfect product!',\n",
       " 'Awesome',\n",
       " 'Value-for-money',\n",
       " 'Just wow!',\n",
       " 'Worthless',\n",
       " 'Super!',\n",
       " 'Excellent',\n",
       " 'Wonderful',\n",
       " 'Nice product',\n",
       " 'Mind-blowing purchase',\n",
       " 'Classy product',\n",
       " 'Terrific',\n",
       " 'Excellent',\n",
       " 'Fabulous!',\n",
       " 'Pretty good',\n",
       " 'Mind-blowing purchase',\n",
       " 'Highly recommended',\n",
       " 'Excellent',\n",
       " 'Worth every penny',\n",
       " 'Fabulous!',\n",
       " 'Brilliant',\n",
       " 'Just wow!',\n",
       " 'Must buy!',\n",
       " 'Terrific purchase',\n",
       " 'Awesome',\n",
       " 'Decent product',\n",
       " 'Wonderful']"
      ]
     },
     "execution_count": 115,
     "metadata": {},
     "output_type": "execute_result"
    }
   ],
   "source": [
    "Review_Summary[:100]"
   ]
  },
  {
   "cell_type": "code",
   "execution_count": 117,
   "id": "7ef24343",
   "metadata": {},
   "outputs": [
    {
     "name": "stdout",
     "output_type": "stream",
     "text": [
      "srapping page 1\n",
      "srapping page 2\n",
      "srapping page 3\n",
      "srapping page 4\n",
      "srapping page 5\n",
      "srapping page 6\n",
      "srapping page 7\n",
      "srapping page 8\n",
      "srapping page 9\n",
      "srapping page 10\n",
      "srapping page 11\n"
     ]
    }
   ],
   "source": [
    "# scrape the Full Review web element\n",
    "Full_Review = []\n",
    "\n",
    "for i in range(0,11):\n",
    "    print('srapping page',i+1)\n",
    "    summary = driver.find_elements_by_xpath(\"//div[@class='t-ZTKy']\")\n",
    "    for s in summary:\n",
    "        Full_Review.append(s.text)\n",
    "    nxt_button = driver.find_elements_by_xpath(\"//a[@class='_1LKTO3']\")\n",
    "        \n",
    "    try:\n",
    "\n",
    "        driver.get(nxt_button[1].get_attribute('href'))\n",
    "\n",
    "    except:\n",
    "       \n",
    "        driver.get(nxt_button[0].get_attribute('href'))"
   ]
  },
  {
   "cell_type": "code",
   "execution_count": 118,
   "id": "09da0a5d",
   "metadata": {},
   "outputs": [
    {
     "data": {
      "text/plain": [
       "110"
      ]
     },
     "execution_count": 118,
     "metadata": {},
     "output_type": "execute_result"
    }
   ],
   "source": [
    "len(Full_Review)"
   ]
  },
  {
   "cell_type": "code",
   "execution_count": 119,
   "id": "13cf9fe4",
   "metadata": {},
   "outputs": [
    {
     "data": {
      "text/plain": [
       "['The Best Phone for the Money\\n\\nThe iPhone 11 offers superb cameras, a more durable design and excellent battery life for an affordable price.\\n\\nCompelling ultra-wide camera\\nNew Night mode is excellent\\nLong battery life',\n",
       " 'Really satisfied with the Product I received... It’s totally genuine and the packaging was also really good so if ur planning to buy just go for it.',\n",
       " 'Amazing phone with great cameras and better battery which gives you the best performance. I just love the camera .',\n",
       " 'Great iPhone very snappy experience as apple kind. Upgraded from iPhone 7.\\nPros\\n-Camera top class\\n- Battery top performed\\n-Chipset no need to say as apple kind\\n-Security as you expect from apple\\n- Display super bright industry leading colour\\naccuracy and super responsive\\n-Build quality as expect from apple sturdy\\npremium durable beautiful stylish.\\n-Os most stable os in smartphone industry\\n\\nCons\\n-No 5G\\n-Display is not based on OLED technology\\n-Charger headphones and 1 apple stic...\\nREAD MORE',\n",
       " 'Previously I was using one plus 3t it was a great phone\\nAnd then I decided to upgrade I am stuck between Samsung s10 plus or iPhone 11\\nI have seen the specs and everything were good except the display it’s somewhere between 720-1080 and it’s not even an amoled it’s an LCD display\\nBut I decided to go with iPhone because I have never used an IOS device I have Been an android user from the past 9 years I ordered IPhone 11 (128gb) product red\\nMy experience after using 3 weeks\\n1. The delivery ...\\nREAD MORE',\n",
       " 'This is my first iOS phone. I am very happy with this product. Very much satisfied with this. I love this phone.',\n",
       " 'Amazing Powerful and Durable Gadget.\\n\\nI’m am very happy with the camera picture quality, Amazing face id unlocked in dark room, Strong battery with perfect screen size as you can carry easily in pocket. This is my third iPhone.\\n\\nI shifted from android Samsung Note series to iPhone because of the strong build quality and peace of mind for next 3-4 years.\\n\\nDon’t think to much just go for it and I suggest you to go for minimum 128gb variant or more 256gb.\\n\\nI’ve attached my puppy pics and no fi...\\nREAD MORE',\n",
       " 'So far it’s been an AMAZING experience coming back to iOS after nearly a decade but it’s not as versatile as android though phone is sturdy dropped it accidentally a couple of times and nothing happened fortunately camera is awesome',\n",
       " 'i11 is worthy to buy, too much happy with the product. Thank u flipkart I received the item on time..loved it..',\n",
       " 'What a camera .....just awesome ..you can feel this iPhone just awesome . Good for gaming also ...try pubg in hd it’s just wow',\n",
       " 'iphone 11 is a very good phone to buy only if you can compromise for the display. The display on this is device is pretty good but you can get other options with better displays in this price segment.\\nIf you can survive with an HD+ LCD panel with thicker bezels and a notch up top then this is a very good phone for you.\\nCameras are awesome, battery backup excellent, great performance and a decent premium look. Good job Apple !',\n",
       " 'It’s a must buy who is looking for an upgrade from previous generation of iPhones. If you are using XR then still you can hold on for sometime and upgrade to 2020 model else this phone is a must buy . Camera quality is amazing and wide angle is something to count upon. Performance wise it’s amazing and feels premium while holding in hand. So a big YES for this device. Go for 128 GB variant as the 4K videos will occupy lots of space and the storage can get over very quickly. Try to buy it with...\\nREAD MORE',\n",
       " 'Value for money❤️❤️\\nIts awesome mobile phone in the world ...\\nDisplay was very good and bright ..\\nTrust me freinds you r never regret after Buying..\\nJust go for it....\\nI love this phone and i switch to iphone x to 11',\n",
       " \"It's my first time to use iOS phone and I am loving my upgradation 😍😍 I love the color, I love the assebility of the phone....I need to learn more about its functionality, but as far as I have seen, it's quite easy and it has a lot of functions to work on, specially if you are a content writer or a blogger you get a lot of content creation platforms and they are really amazing.\\n\\nThis phone not only for good quality photography but a lot of other task too.😍💯\",\n",
       " \"Iphone is just awesome.. battery backup is very very nice.. continuously for 10 hours we can use it.camera is just awesome.. display is just fab.i love it alot..i had to wait 15 days for it as i pre ordered it..overalll it's worth the price..these all images are clicked by my iPhone..and i love it.\",\n",
       " 'Best budget Iphone till date ❤️ go for it guys without second thought. Let me explain you guys about Camera, Display, battery, and performance.\\n\\nCamera: at this price range there is no comparison of camera, you’ll love the picture quality as well as video quality. I am a Vlogger I wanted an iPhone with 4k video by front camera and I got this phone and I am more than happy 😃\\n\\nBattery: I use this phone roughly as I am active social media person and I have a youtube channel. so the battery ba...\\nREAD MORE',\n",
       " 'Totally in love with this ❤ the camera quality is amazing just love it 😘😘😘 itsss dammnnnnnn amazing... Must buy iPhone 11 this is my best experience ever ☀👌👌🧡🧡🧡🧡🧡 thanku apple ❤',\n",
       " 'Excellent camera, good performance, no lag. The lcd display is also good.. but difference come when we watch movie in prime and Netflix, the colours are not vibrant.. as we see in amoled display.. and the charger in box is of 5 watts.. takes more than 3 hours to charge from 0 to 100.. so guys be prepare to buy 18 watts charger . Finally I am an android user, it was my first Iapple phone, I promise u guys the iOS is so smooth.. overall the phone is damn good.... close eyes to buy it.. thanks t...\\nREAD MORE',\n",
       " 'It’s been almost a month since I have been using this phone. I upgraded from an iPhone 8. The main issue with my 8 was battery and this phone is just awesome when it comes to battery. It lasts a day and a half for me with my regular use , internet connected always with 4g\\nCan’t move forward without saying this. Battery of this phone is a life saver when I am traveling or at work when I don’t get the option to charge\\nCamera is superb. Front cam selfies and back cam photos are just awesome.\\n...\\nREAD MORE',\n",
       " 'Smooth like butter, camera like fantabulous, sound is crystal clear & its red color is damn attractive, i am just loving it. Must buy if you love photography.\\n\\nLucky to get it in sale, thank you Flipkart.',\n",
       " 'This is my first ever I phone. Before this I was using my google nexus 5. But moving from android to iOS is a great experience. It’s worth at this price. I will highly recommend it if you want to move to iOS. The best part of this phone is it’s camera and it’s battery life. This two things have won my heart. I loved it. Happy to have it in my hand. Still exploring its features. And can’t forget to mention Flipkart service. Very prompt service and fast delivery.',\n",
       " 'Really worth of money. i just love it. It is the best phone ever.',\n",
       " 'Awesome Phone. Slightly high price but worth. Better than iPhone XR.\\nCamera is superb and wide angle camera is very clear.\\n12MP selfie camera is also very good.\\nA13 Chip gives a very good and smooth performance.',\n",
       " 'Battery backup is extraordinary, camera is decent & performance offered by A13 bionic is awsome. The display is good in practical usage like the visibility of display is very good in direct sun light compare to pro models. Iam extremely satisfied for the money I spent.',\n",
       " 'Superb Product !!!\\nA big and worthy upgrade from mi 3S to iphone 11 .\\nTotally loved it !',\n",
       " 'I have migrated from OP 7pro... and trust me, iPhone 11 is totally worth it.. following are the reasons:-\\n1)there is ABSOLUTELY NO ISSUE WITH THE DISPLAY... its crisp, sharp and I found it to be much much better than OP7 pro. Netflix, Prime video all run crisply... you won’t miss a thing. True Tone works flawlessly...the display brightness is perfect. OP have not calibrated their screens properly.\\n2) iPhone 11 series have really good cameras... others have spoken in depth about them.\\n3) bat...\\nREAD MORE',\n",
       " 'Looking so good 👍 😍 super 👌 stylish 😎 phone\\nClean box 📦 good 👍 delivery 👌 fast delivery\\nOriginal box Original iphone 📱 👌 😍😍😍',\n",
       " 'It’s an amazing product from apple and the camera is simply superb. Phone is faster.Night shot is simply superb and detailing and colour differentiation from camera is an added advantage\\n\\nThis review I have written from iPhone 11 only and I am glad to say outside.\\n\\nCons wise if we see HD+ display only, no battery percentage indicator as in older iPhone 8.\\nNo assistive touch control button in it\\nNo oleophobic coating on back panel glass and finger prints are visible but since I bought mint gr...\\nREAD MORE',\n",
       " 'I just directly switch from iphone 6s to iphone 11 .The best premium smartphone I recommend to everyone. Excellent quality and colors the iphone have in 11 series.\\nCamera quality is just awesome and the major feel when we hold in our hands. The sound quality and volume is also higher then the previous models.\\nI will recommend to buy iphone 11 instead of pro models , there is nothing much difference as this model contains everything which fulfill our needs.\\n\\nOnly one thing that I dislike abo...\\nREAD MORE',\n",
       " 'After 1 month use I found camera quality best compared to my previous Samsung note 10+.Display not good as note 10 also charging too slow.Apple should add fast charger like 11 plus and pro.Best phone for daily use',\n",
       " 'Upgraded from iphone 6 to 11 best phone for iphone users battery is much better than other iphones camera is awesome love to use it.camera is so clear in night.',\n",
       " \"It's very high performances devise i am like the service of flipkart delevary very fast and packing very nice perfect phone\",\n",
       " 'Well you all know the specifications . One of a kind. Best iPhone till date. Many enhancements to the camera app with many options. Love the glass body with matte finish in the lens area on the back. Lovely colours to choose from. Best battery in an iPhone till date, enough to last more than a day in normal usage. I tested my iPhone 11 battery and lasted for than 24 hours after full charge still with 30% battery charge left. Watched movies for some time. Normal usage on calls, browsing, musi...\\nREAD MORE',\n",
       " 'The built quality is not very premium.\\nThe battery back is great .\\nThe LCD panel is not so sharp but the brightness level is very High .\\nCamera is super duper awesome.\\nThe red colour which people think is bright is actually very soothing and excellent colour to choose from .\\nThe A13 Bionic chip is really a flagship processor and can beat any phone which even has 12 gb ram .\\nCamera module is very great and looks very stylish.',\n",
       " 'This will help you more. See if you are planning to buy iPhone 11. I will say. Yes. But there are some plans I just want to disclose before you buy. 1) If you are an existing iPhone X/XS/XS Max/ XR user, better you guys do not think it to buy. You guys have more or less better gadget. 2) If you are an android user and planning to buy premium phone. I will suggest them to please buy iPhone instead of buying an Android. I bet you will never go back to android after using IOS. Now I want to shar...\\nREAD MORE',\n",
       " 'Amazing camera and feel super machine I am not describe my feeling but this is amazing Phone I am so lucky I have this',\n",
       " 'Really good actually this is my first apple product am using its really awesome performance wise excellent. Am really happy with this iphone11',\n",
       " 'it is very good at performance. Camera is best like before and very smooth response even in water. Don’t buy 12 mini buy iPhone 11 , it is far better than 12 mini believe me ! Have a nice day \\uf8ff ☺️',\n",
       " 'Reviewing again after 5 months. At the beginning the battery and performance was good but it degraded soon. Also I was facing heating issues. The mobile will heat up like a stove sometimes. You cannot even play Pubg even in low settings properly, performance is not a problem but heating is. Also if you play that game for 10 mins the brightness will be automatically down due to over heating even when the auto brightness is set to off. This will not be solved even if u manually increase the bri...\\nREAD MORE',\n",
       " 'We are on apple ecosystem for almost eight years now with couple of iPads and iPhones, including Xr.\\n\\nBought iPhone 11 as a gift to my daughter who loves it. We chose for a purple coloured one. Believe me it is gorgeous and towards the lighter shade. Dazzling and brilliant!\\n\\nThe phone is great and does excellent RAM management like any other Apple device.\\n\\nThe screen, though a LCD and lesser ppi as compared to other flagship phones of competitor brands, is a delight to watch with perfect re...\\nREAD MORE',\n",
       " 'It is just awesome mobile for this price from Apple,\\n\\nAfter 10 days review\\n\\nBattery enough for 1 day even 24*7 Internet will be on and mostly internet usage\\n\\nCamera is just awesome cool , android 64 MP is equal to this just 12 MP\\n\\nA13 Bionic chip will give more high performance without hanging\\n\\nAudio stereo speakers will give Dolby atoms sound with crystal clear\\n\\nVideo recording is like cinematic shots of every sec can be a 4K 60fps. Just awesome this phone\\niPhone 11 loved one',\n",
       " 'Best Apple iPhone that i have bought at a very reasonable price, camera quality is next level just awesome n of superior quality android phones not even close(RIP) to that and also battery is really good but packaging by Flipkart of iPhone was very poor of such a expensive product, firstly im bit worried about the quality of product if i purchased it through online how was the product but i think now this was mine best decision to bought it through Flipkart online because i got genuine Apple...\\nREAD MORE',\n",
       " \"I can say I'm damn impressed with iPhone 11. As they says iPhone 11 have the toughest glass ever in the smartphone which you'll find on the front and back and it's totally smooth. The fit and finish is full apple quality - there's no sense that any cheaping out has happened in the construction. Without saying it's camera features this review won't complete. The iPhone 11 has a dual camera system, consisting of a wide angle len's that's pretty much same as found on the iPhone XR last year, but...\\nREAD MORE\",\n",
       " 'Best Quality Product OF iPhone Series , Sound Quality & Camera quality is very awesome, Battery Life is very Sufficient for 24 hr Backup With Full Internet Access , I love this this Product too much , It is very fast & making me Very fast in all my daily Routine\\nHighlights;\\n1.Camera: 5 STAR\\n2.Video Recording: 5 star\\n3.Night mODE sHOOTING & Camera:4 star\\n4. Audio Quality: Awesome\\n5. Battery : 5 Star\\n6. Touch:5 Star\\n7. Processor: Very Fast\\nThe M...\\nREAD MORE',\n",
       " 'First thanks to Flipkart for this amazing deal and phone is outstanding. I upgraded from iPhone 7 and this is like very big upgrade. But the packaging was very basic I expected a good packaging as they only wrapped one layer of bubble wrap which I don’t think is enough to protect this expensive phone. And I recommend this phone and seller as well.\\n\\nAnd I’m posting this review after using it for 4 days.',\n",
       " 'Superfast delivery by Flipkart. Thanks.\\n\\n1. iPhone 11 is a pretty solid phone for the money you are paying.\\n2. All the bad reviews about the display is confusing. It’s not that bad.\\n3. I switched from a Oneplus 7t. I have no complaints about the display quality of iPhone. Yes, it’s not OLED, so, we are missing on the deep blacks. But that’s it. It is a very colour accurate display. Gets adequately bright and I could not find any pixelation.\\n4. Performance is one of the best, if not best, in ...\\nREAD MORE',\n",
       " 'I rate this product 5* as it has got amazing user experience with the best performing A13 bionic processor. The screen responds and graphics rendering is top notch. With casual gaming and internet browsing, the battery lasts for approx. 1 day. Camera is very good. You will fall in love with the portrait mode. You can call me a loyal Apple customer or whatever but I won’t stop praising the products and overall experience. That user experience matters and is worth every penny you pay.\\n\\nBelow ar...\\nREAD MORE',\n",
       " \"Again back to apple iphone after a gap of 2-3 years. It's pleasure to use iOS and the quality product by Apple. Iphone 11 still works like a beast in 2021 also. It really capable of doing day to day usage as well as hard core gaming. Battery is awesome. I'm really too much satisfied with it. Apart fto the very gorgious IPS LCD (AMOLED will be better) everything is mind boggling. Iphone💕.\",\n",
       " 'impressive super phone and best in class camera ,sound and face unlock is super fast just see and phone is unlock and fast in daily apps use',\n",
       " 'Well while switching from android to iOS the first thing you need to be careful about is that you will loose all your whatsapp chat backups as both are different operating systems. Camera clarity is awesome and though being an lcd screen clarity and resolution is good. Battery backup is also good unlike previous gen iPhone. So far the experience is good will Padre after a few months of usage.\\n\\nP.S the black is more of a dark grey shade and not jet black',\n",
       " 'In love with this iphone great performance,camera ,battery everything. Go for it have a uncompareble battery backup, no doubts in iPhone camera here You can see the picture which is shot on my iPhone In love with this iphone great performance,camera ,battery everything. Go for it have a uncompareble battery backup, no doubts in iPhone camera here You can see the picture which is shot on my iPhone In love with this iphone great performance,camera ,battery everything. Go for it have a uncompare...\\nREAD MORE',\n",
       " 'Best in class. Battery backup is good especially when you play games like Pubg COD. But it is sort of heavy when you hold in hands. Portrait mode is best to click pictures. Stage light effect is awesome. Try to click photos outside in nature because photos inside home or room will not give you the quality in any phone even in DSLR.',\n",
       " 'Very excited to have this phone. This phone has the real power unlike the android phones having SD 855 . The battery life is very good and the camera quality is excellent as comapred to redmi and other phones except google pixel. I M enjoying every single bit of it. Would recommed only if you have the budget.',\n",
       " 'I was using Iphone 6s and also Oneplus 6t. Both mobiles were perfectly alright in Photos, gaming, and smooth interface . My 6s mobile getting battery issue. thought upgrade to 11. Really like this mobile of its Internal storage (compare to 6s) , camera and its touch feeling. Its a worth buying mobile for me.',\n",
       " 'Its Very awesome product working and good camera quality and all about best product and also flipkart is very great deal and offer nice price',\n",
       " 'I am using this phone for 5 days and its one of the best camera out there ❤️ the screen is not oled and i am coming from iphone xs so its little bit not up to the mark i would say\\nBut overall value for money💕😍the battery back up is far better than my iphone xs and its worth in my apple ecosystem💫❤️if u are an apple User and have the eco system then go for it❤️though i will be getting the new iphone but its pretty good💫',\n",
       " 'Best and amazing product.....phone looks so premium.... battary is also good as expected .... Wide angle camera is so addictive ...if you are a IOS lover....then this phone will be the best choice for you all!!💯🔥',\n",
       " 'Excellent camera and display touching very nice and smooth very improvement against iPhone XR and new processor is very fast',\n",
       " \"I got this beast today. And I must say the picture quality of its camera is awesome. Both the cameras works fine.\\n\\nAs for as the processing is concerned, it runs without any lag. You can play and do whatever you want without a glitch.\\n\\nThe battery runs for a day with medium and high workload.\\n\\nThe display is good and the speakers are working fine.\\n\\nThe earphones doesn't have any base and you can use it for calling mostly.\\n\\nThe charging time is approximately for 90 minutes for full charging...\\nREAD MORE\",\n",
       " 'Awesome purchase. Amazing phone with good battery backup. It’s a top notch device. White colour looks amazing. Phone has a few extra feature than iPhone XR. Overall, this is value for money',\n",
       " 'Always love the apple products, upgraded from old iPhone 6S plus to this after having my first baby. I just love to click baby’s photos with it. Overall I just love this phone. Battery back up is okay, sound quality is good. Haven’t tested yet waterproof yet. Only one thing I hate is apple could have given charger & headphones in box.',\n",
       " 'Value for money\\n5 star rating\\nExcellent camera\\nBattery backup full day in single charge.\\n\\nTougher and water resistant design, glossy back.\\nThe screen has excellent brightness and contrast.\\nApple A13 Bionic is the fastest smartphone chip on the planet.\\nExcellent battery life, fast charging support.\\nStereo speakers with great quality.',\n",
       " 'Please DONT buy from here,\\n\\nI purchased Apple iPhone 11. with an exchange of IPhone 7, the exchange did not go well, iPhone 7 had a small scratch out side screen which i could never identify till date, but the FLIPKART person could, so he reduced 50% from exchange rate. I decided not to trade in, but paid money.\\n\\niPhone 11 Detail Below\\n---------------------------------------------\\nIt came with no charging, then i have put for charging, it took lot of time for charging, the phone also showe...\\nREAD MORE',\n",
       " 'awesome phone to have. it has got many smart features apart from mind blowing looks, camera, display, battery and sound. have fallen in love with this phone. must buy phone if you have got enough money. thanks to flipkart and apple of course..',\n",
       " 'Its a fabulous mobile look awesome performance unbeaten camera like dslr battery good i think this is a beast of mobile',\n",
       " 'Dear friends... I want to share my experience with you about this amazing I phone 11....this is my first iPhone and special things about this mobile is it has great camera, battery backup and awesome display.... I mean everything is perfect.loved it 👍👍👍',\n",
       " \"Just got this iphone 11\\nAnd it is most powerful mobile phone I have used ever\\n\\nSo,go for it if you want a phone with best specification like camera,battery backup,display, A13 bionic chip\\n\\nThat's my review about this phone but yours can be differ from me....\",\n",
       " \"The best all rounder iphone. Flipkart is doing a great job. They're delivery services are blazing fast. I got delivery on the same day. Genuine Apple Product. Working great. Talking about review There's no need of review for iphones. They're simply the best.\",\n",
       " 'Amazing phone and on great deal I received with super fast delivery by Flipkart...',\n",
       " 'finally an iPhone with very nice battery backup. update from iPhone 7 and happy to have it. camera is not up to the mark in low light but overall a recommended phone if your budget allows 😀',\n",
       " \"I'm switching this phone to oppo reno 10x zoom\\nIt's really impressive\\nRarely I'm missing smooth display touch response like oppo reno but\\nI really loved it.\\nCamera really impressive\",\n",
       " 'Simply Awesome\\n\\nI have upgraded from iPhone 7 to iPhone 11.\\n\\n3110 mah Battery is good. I am not a heavy gamer. For official purpose, this is better than 12 mini.\\n\\nTotally impressed with battery performance.',\n",
       " 'Damn this phone is a blast . Upgraded from android to ios and is a duperb experience. Battery backup is top notch and display also pretty good',\n",
       " 'Worth the money’ starting first from its performance it beats out all phones , second the smoothness of camera is awesome, contrast ratio is much than expected. Price will not matter if u r a quality person, if not other phones are available with better discount',\n",
       " 'I dreamt about this day from a long time.... Getting an iPhone with my own money.... Super happy and worth spending every penny',\n",
       " \"I'm Really happy with the product\\nDelivery was fast as well\\n..it was a gift for my sister and she loved it so much.\",\n",
       " 'Great iphone.\\nI am writing this review after 2 months of usage.\\nCamera is excellent, especially the nightmode\\nDisplay perfect\\nBattery backup awesome\\nSound quality very good\\nOverall Apple gives you a perfect iphone in this range.\\nReally in love with iPhone 11',\n",
       " \"Phone is awesome no doubt. But Camera & Display is not great. Performance is mind blowing.\\nBut the phone is heating too much when charging or when you regularly used. It's experience after using 1 week. It's heating extrem when I play PUBG for 30 minutes.\\nGo for iPhone 11 pro or 12. Otherwise go for Android phone you will get much better phone in less price.\",\n",
       " 'Did an upgrade from 6s plus to iphone 11.\\nAo far the experience is well and good. Felt smoother than 6s plus. The camera quality is superb. Battery backup is descent. Not a heavy user, and gets power more than a day. Go for it if you need an alrounder iphone in a competitve price.',\n",
       " \"It was amazing experience for me. Honestly i am using iPhone first time so I don't have that much past experience about that. But after using 7 days this mobile i want to give some honest feedback.\\n1- Display 9 out of 10\\n2- Camera 9.5 out of 10\\n3- Battery 7 out of 10\\n4- Performance 9.5 out of 10\\n5- Features & Functions 10 out of 10\\n6- Outer looks and colour 10 out of 10\\nRest i think i will understand after using this for few months.\\nI will highly recommend you guys if you have budget then you...\\nREAD MORE\",\n",
       " 'Super and marvellous phone look very cute and nice sound. I love this phone i think white is good colur.Excellent camer 5*😍😘♥️♥️',\n",
       " \"If you are looking for a premium phone under 55k, this is the one for you.Got the iPhone 11 during the Republic day sale. Performance is top notch in this price range. Camera's do a perfect job in taking good quality photos and videos. Battery backup too is satisfactory. Writing this review after using for a week. Any further observations would be updated.\",\n",
       " 'awesome Phone Smooth Touch Too good Sexyy looks one word Awesome',\n",
       " 'Gifted my man on his 30th birthday 🎂 He loves it.. Him happy so i am more than happy 😍😘❤️🥰',\n",
       " 'I bought iPhone 11 On March 2021, And I am Writing this review after using the phone for 4 Months. I would Say Everything is fine, Top Performance, Nice Camera as Anyone would Expect from any series of iPhone but when the Question comes to Battery it is complicated. The Battery is fully optimised and it comes 3110 mAh capacity but the problem is with the charger. Honestly Apple Removed charger from in Box items in the name of Environment and they are also forcing us to buy any 20W PD 3rd part...\\nREAD MORE',\n",
       " \"Just go for it.\\nThis phone is really amazing. I ordered it for my wife and we click photos on this thing which are better than dslr. I own OnePlus 6t but it's camera sucks. iPhone is really amazing when it comes to camera. It's worth spending 50k on this. Cons- only display is lcd. While using u don't feel it but if u compare with other phone then u can see difference quite easily.\\nChanging from Android to iphone is bit difficult coz most of things u don't know but I liked it. Some of the a...\\nREAD MORE\",\n",
       " 'Everything is perfect pictures come out so clearly and at first I wasn’t sure when I got it then when I started to use it and get the hang of it it was amazing!! I can’t wait to see what the next future phones will be like. The screen display on this bad boy are unbelievable they are so clear and never fail me. The performance is super cool there is a lot of cool features as well I like this phone because I feel that it is easy to use and one of my favorite things about this phone is the Face...\\nREAD MORE',\n",
       " \"I've used this phone for over a month now and here are my takeaways.\\nI would like to first talk about the best things about this phone and then the cons of it.\\n\\nPros:\\nThis phone is a performance beast. It handles large games and applications effortlessly and you won't find any stutters or lags while playing graphic intensive games like pubg, cod , mortal kombat and asphalt.\\n\\nThis phone has only 4gb ram and yet the ram management is amazing, it can keep 3 heavy games in memory without reload...\\nREAD MORE\",\n",
       " 'Excellent camera 📸 And Display touching very Nice And Smooth and very improvement against\\nI phone 11 and new processor is very fast',\n",
       " 'Thanks Flipkart For this amazing deal! I had a dream of owning a iphone since i had known about.\\nIm very happy with my purchase & it is totally worth it.\\nAmazing experience all over !!\\n\\nAnyone who’s thinking of buying it in 2021, i would simply say go for it without any second thoughts ❤️',\n",
       " 'A perfect phone and a good battery super camera and the sound is dynamic overall the phone is perfect for upgrading from lower iPhone model to iPhone 11',\n",
       " 'Undoubtedly Iphone 11 is the most successful model till now and its performance is extraordinary and the security features are very impressive, display is more vibrant sound quality Camera Quality 5*****, but Iphone should add accessories too and act like scrooge.',\n",
       " 'I purchased the iPhone 11 a month back. I must say Apple has impressed me yet again . I have been an Apple user for past 5 years . The phone is power packed with amazing features . What impressed me the most was the battery backup the phone offers . Battery can easily run upto 1.5 days in single charge with moderate to\\nHeavy usage . If you’re looking for a value for money device , I don’t see any other phone in the price range which can match the iPhone 11 .\\nOne thing I didn’t like was that ...\\nREAD MORE',\n",
       " 'A wort full value for money decision it’s . Simply go for it in 2021 its still a good decision . Awesome camera , Super smothered performance, Heck of build quality. And Most important it protects your privacy.',\n",
       " 'The ultimate performance\\nCamera is superb\\nThe battery backup also very good i never saw iphone gives this much of battery backup\\nIf any one wana buy iphone 11 definitely i will recommend this mobile\\nIt has the better battery and powerfull processer peak performance glorious camera and the display also 100% high quality lcd display if u had money for for 12 if u dont wana invest much money on that then go for iphone 11 it has maximum same specs only main difference between the 12 and 11 is...\\nREAD MORE',\n",
       " \"Camera is excellent just lack of telephoto mode frankly dose not needed either night mode is just 🙏🙏 12 12 12 mp (2back 1 front) camera lover just don't miss the deal\\nDisplay lcd but feel like super amoled\\nAt46999 with no cost EMI just a best deal\",\n",
       " 'I use a Note10+ and have been using both iOS and Android devices.\\n\\nCamera has really good features and portraits are super good, better than Samsung flagship. Overall camera setup can still be enhanced and hopeful for better upgrades on software in next release\\n\\nOperating system is quite a breeze and user experience of daily usage is very high as compared to Android. I moved to iOS very swiftly in 2 days for all my office work from Note10+\\n\\nBattery holds up quite well with 4 hrs of call and ...\\nREAD MORE',\n",
       " 'The phone is completely good\\nAs far as camera Apple is king of it\\nAnd its a beast in performance\\nAnd the battery is pretty good too',\n",
       " 'Everything u ll like it when u use this iPhone. Simple changes only not many to lower models but it’s nice to use. Little heavy compared to previous models like 7,8',\n",
       " 'Nice value for money good and best price I phone mind blowing camera processor very fast other android mobile I am happy India top selling phone 2020',\n",
       " 'iPhone is delivered on time. Display is great u won’t feel that it’s a hd panel. Quality is excellent. Sounds is great it has stereo setup. Camera is good. iOS 14.2 comes in the box. U roughly get 113 gb free if u buy 128 gb. This is my second iPhone and i love it. Value for money.',\n",
       " 'Nice value for money good and best price I phone mind blowing camera processor very fast other android mobile I am happy India top selling phone 2020',\n",
       " 'This is my first ever iPhone.\\nAnd I truly don’t regret switching to IOS from my Android.\\n\\nIt is easily an alternative to a DSLR camera.\\nIf you’re obsessed with photos and videos, just don’t think twice or don’t compare to other androids(Samsung S10 lite or OnePlus 8/8T), as it’s far better from them in every field.\\nComparing will only make you confused.\\n\\nI am getting an average Screen on Time of around 10 hours with 30 percent left. I haven’t let my device discharged below 30 % as it aff...\\nREAD MORE',\n",
       " 'I got this phone for good price hence 5 star for it , and over quality is good because the price to buy iphone was worth at 41000',\n",
       " \"Camera is excellent just lack of telephoto mode frankly dose not needed either night mode is just 🙏🙏 12 12 12 mp (2back 1 front) camera lover just don't miss the deal\\nDisplay lcd but feel like super amoled\\nAt46999 with no cost EMI just a best deal\",\n",
       " \"I genuinely liked it. One of the best mobile phones I have used. It's sho smooth and it's security is very astonishing. Plus it has a very good camera quality. so overall it's a win win.\",\n",
       " 'Flipkart honoured on time delivery, I have used 6s , now I have upgraded apple 11 . Really great experience for new iPhone. Thank you apple and flipkart.',\n",
       " 'Awesome camera, smooth and fast UI, display is great (though not LED) but the black area at the top could have been reduced. Battery remains a day even if used heavily. Charger in the box is ok, but 12 or 18W could have been nothing like anything. Overall an excellent product and comfortable to use. I have got it almost a month back and so far so good.',\n",
       " 'Good product nice experience with Flipkart but I am unhappy with the packaging part because such a valuable product comes under normal cover without any additional wrapping and that too for Plus customers. Expecting good Packaging in future from Sellers.',\n",
       " 'Here is the thing\\n\\nThe only reason why you should buy this phone is for the camera, iOS, and if you have headaches looking at AMOLED display.\\n\\nI’m not an avid gamer but watch a lot of movies on smartphone. However, my migraine attacks increased considerably after using AMOLED Smartphone. That’s why I made a calculated decision to buy iPhone 11. It has the best LCD display and the blacks, though not as natural as an AMOLED, is better than some of the other smartphones.\\n\\nAdding to this the ste...\\nREAD MORE']"
      ]
     },
     "execution_count": 119,
     "metadata": {},
     "output_type": "execute_result"
    }
   ],
   "source": [
    "Full_Review"
   ]
  },
  {
   "cell_type": "code",
   "execution_count": 125,
   "id": "46943e61",
   "metadata": {
    "scrolled": true
   },
   "outputs": [
    {
     "data": {
      "text/html": [
       "<div>\n",
       "<style scoped>\n",
       "    .dataframe tbody tr th:only-of-type {\n",
       "        vertical-align: middle;\n",
       "    }\n",
       "\n",
       "    .dataframe tbody tr th {\n",
       "        vertical-align: top;\n",
       "    }\n",
       "\n",
       "    .dataframe thead th {\n",
       "        text-align: right;\n",
       "    }\n",
       "</style>\n",
       "<table border=\"1\" class=\"dataframe\">\n",
       "  <thead>\n",
       "    <tr style=\"text-align: right;\">\n",
       "      <th></th>\n",
       "      <th>review</th>\n",
       "      <th>Summary</th>\n",
       "    </tr>\n",
       "  </thead>\n",
       "  <tbody>\n",
       "    <tr>\n",
       "      <th>0</th>\n",
       "      <td>The Best Phone for the Money\\n\\nThe iPhone 11 ...</td>\n",
       "      <td>Brilliant</td>\n",
       "    </tr>\n",
       "    <tr>\n",
       "      <th>1</th>\n",
       "      <td>Really satisfied with the Product I received.....</td>\n",
       "      <td>Simply awesome</td>\n",
       "    </tr>\n",
       "    <tr>\n",
       "      <th>2</th>\n",
       "      <td>Amazing phone with great cameras and better ba...</td>\n",
       "      <td>Perfect product!</td>\n",
       "    </tr>\n",
       "    <tr>\n",
       "      <th>3</th>\n",
       "      <td>Great iPhone very snappy experience as apple k...</td>\n",
       "      <td>Best in the market!</td>\n",
       "    </tr>\n",
       "    <tr>\n",
       "      <th>4</th>\n",
       "      <td>Previously I was using one plus 3t it was a gr...</td>\n",
       "      <td>Worth every penny</td>\n",
       "    </tr>\n",
       "    <tr>\n",
       "      <th>5</th>\n",
       "      <td>This is my first iOS phone. I am very happy wi...</td>\n",
       "      <td>Fabulous!</td>\n",
       "    </tr>\n",
       "    <tr>\n",
       "      <th>6</th>\n",
       "      <td>Amazing Powerful and Durable Gadget.\\n\\nI’m am...</td>\n",
       "      <td>Great product</td>\n",
       "    </tr>\n",
       "    <tr>\n",
       "      <th>7</th>\n",
       "      <td>So far it’s been an AMAZING experience coming ...</td>\n",
       "      <td>Good choice</td>\n",
       "    </tr>\n",
       "    <tr>\n",
       "      <th>8</th>\n",
       "      <td>i11 is worthy to buy, too much happy with the ...</td>\n",
       "      <td>Worth every penny</td>\n",
       "    </tr>\n",
       "    <tr>\n",
       "      <th>9</th>\n",
       "      <td>What a camera .....just awesome ..you can feel...</td>\n",
       "      <td>Highly recommended</td>\n",
       "    </tr>\n",
       "  </tbody>\n",
       "</table>\n",
       "</div>"
      ],
      "text/plain": [
       "                                              review              Summary\n",
       "0  The Best Phone for the Money\\n\\nThe iPhone 11 ...            Brilliant\n",
       "1  Really satisfied with the Product I received.....       Simply awesome\n",
       "2  Amazing phone with great cameras and better ba...     Perfect product!\n",
       "3  Great iPhone very snappy experience as apple k...  Best in the market!\n",
       "4  Previously I was using one plus 3t it was a gr...    Worth every penny\n",
       "5  This is my first iOS phone. I am very happy wi...            Fabulous!\n",
       "6  Amazing Powerful and Durable Gadget.\\n\\nI’m am...        Great product\n",
       "7  So far it’s been an AMAZING experience coming ...          Good choice\n",
       "8  i11 is worthy to buy, too much happy with the ...    Worth every penny\n",
       "9  What a camera .....just awesome ..you can feel...   Highly recommended"
      ]
     },
     "execution_count": 125,
     "metadata": {},
     "output_type": "execute_result"
    }
   ],
   "source": [
    "iphone = pd.DataFrame()\n",
    "iphone['review'] = Full_Review\n",
    "iphone['Summary'] = Review_Summary\n",
    "#iphone['rating'] = Rating\n",
    "iphone[0:10]"
   ]
  },
  {
   "cell_type": "markdown",
   "id": "cef7a036",
   "metadata": {},
   "source": [
    "Q6: Scrape data for first 100 sneakers you find when you visit flipkart.com andsearch for “sneakers” in the search field.\n",
    "You have to scrape 4 attributes of each sneaker:\n",
    "1. Brand\n",
    "2. Product Description\n",
    "3. Price\n",
    "As shown in the"
   ]
  },
  {
   "cell_type": "code",
   "execution_count": 46,
   "id": "51820cd3",
   "metadata": {},
   "outputs": [],
   "source": [
    "# Connect to webdriver\n",
    "driver = webdriver.Chrome(r'C:\\Users\\USER\\Downloads\\chromedriver_win32 (1)\\chromedriver.exe')"
   ]
  },
  {
   "cell_type": "code",
   "execution_count": 158,
   "id": "416d19e9",
   "metadata": {},
   "outputs": [],
   "source": [
    "url = 'https://www.flipkart.com/'\n",
    "driver.get(url)\n",
    "\n",
    "#finding web element for search bar using id\n",
    "search_bar = driver.find_element_by_xpath(\"/html/body/div[1]/div/div[1]/div[1]/div[2]/div[2]/form/div/div/input\")\n",
    "\n",
    "# write on serach bar\n",
    "search_bar.send_keys(\"sneakers\")"
   ]
  },
  {
   "cell_type": "code",
   "execution_count": 145,
   "id": "dc8dc5e4",
   "metadata": {},
   "outputs": [
    {
     "name": "stdout",
     "output_type": "stream",
     "text": [
      "srapping page 1\n",
      "srapping page 2\n",
      "srapping page 3\n"
     ]
    }
   ],
   "source": [
    "brand = []\n",
    "\n",
    "for i in range(0,3):\n",
    "    print('srapping page',i+1)\n",
    "    product=driver.find_elements_by_xpath(\"//div[@class='_2WkVRV']\")\n",
    "    for p in product:\n",
    "        brand.append(p.text)\n",
    "    nxt_button = driver.find_elements_by_xpath(\"//a[@class='_1LKTO3']\")\n",
    "        \n",
    "    try:\n",
    "\n",
    "        driver.get(nxt_button[1].get_attribute('href'))\n",
    "\n",
    "    except:\n",
    "       \n",
    "        driver.get(nxt_button[0].get_attribute('href'))\n",
    "       "
   ]
  },
  {
   "cell_type": "code",
   "execution_count": 146,
   "id": "0437791b",
   "metadata": {},
   "outputs": [
    {
     "data": {
      "text/plain": [
       "120"
      ]
     },
     "execution_count": 146,
     "metadata": {},
     "output_type": "execute_result"
    }
   ],
   "source": [
    "len(brand)"
   ]
  },
  {
   "cell_type": "code",
   "execution_count": 147,
   "id": "7e5d11b5",
   "metadata": {},
   "outputs": [
    {
     "data": {
      "text/plain": [
       "[\"Neeman's\",\n",
       " 'RED TAPE',\n",
       " 'Magnolia',\n",
       " 'luxury fashion',\n",
       " 'ASTEROID',\n",
       " 'Stefano Rads',\n",
       " 'URBANBOX',\n",
       " 'BIG FOX',\n",
       " 'Labbin',\n",
       " 'Extoes',\n",
       " 'BRUTON',\n",
       " 'BIG FOX',\n",
       " 'D-SNEAKERZ',\n",
       " 'SCATCHITE',\n",
       " 'Echor',\n",
       " 'RED TAPE',\n",
       " 'HOTSTYLE',\n",
       " 'Kraasa',\n",
       " 'TR',\n",
       " \"Neeman's\",\n",
       " 'BIRDE',\n",
       " 'Trendmode',\n",
       " 'RapidBox',\n",
       " 'RED TAPE',\n",
       " 'Numenzo',\n",
       " 'Shoes Bank',\n",
       " 'Rzisbo',\n",
       " 'SUSON',\n",
       " 'Numenzo',\n",
       " 'Kraasa',\n",
       " 'Robbie jones',\n",
       " 'RED TAPE',\n",
       " 'DUNKASTON',\n",
       " 'SPARX',\n",
       " 'ganpati traders',\n",
       " 'PROVOGUE',\n",
       " 'Lee Won',\n",
       " 'India hub',\n",
       " 'ASTEROID',\n",
       " 'RED TAPE',\n",
       " 'aadi',\n",
       " 'believe',\n",
       " 'Xtoon',\n",
       " 'Echor',\n",
       " 'Echor',\n",
       " 'India hub',\n",
       " 'BRUTON',\n",
       " 'DUNKASTON',\n",
       " 'SPARX',\n",
       " 'KNIGHT WALKERS',\n",
       " 'Zorth',\n",
       " 'PEHANOSA',\n",
       " 'World Wear Footwear',\n",
       " 'Pieds',\n",
       " 'Zorth',\n",
       " 'Shoes Icon',\n",
       " 'RODDICK SHOES',\n",
       " 'BIRDE',\n",
       " 'CALCADOS',\n",
       " 'Deals4you',\n",
       " 'Chevit',\n",
       " 'BIRDE',\n",
       " 'Robbie jones',\n",
       " 'JOHAR KING',\n",
       " 'Robbie jones',\n",
       " 'KANEGGYE',\n",
       " 'BIRDE',\n",
       " 'GVR',\n",
       " 'BIRDE',\n",
       " 'T-ROCK',\n",
       " 'D-SNEAKERZ',\n",
       " \"Neeman's\",\n",
       " 'Vellinto',\n",
       " 'FEWROK',\n",
       " 'BIRDE',\n",
       " 'Advick',\n",
       " 'BIRDE',\n",
       " 'SPARX',\n",
       " 'BRUTON',\n",
       " 'CLAXA',\n",
       " 'Ktiz',\n",
       " 'PUMA',\n",
       " 'BIRDE',\n",
       " 'DUNKASTON',\n",
       " 'Kraasa',\n",
       " 'Dizzler',\n",
       " 'DRESTA',\n",
       " 'Echor',\n",
       " 'Robbie jones',\n",
       " 'Robbie jones',\n",
       " 'Rao',\n",
       " 'Shoes Icon',\n",
       " 'SPARX',\n",
       " 'Airland',\n",
       " 'ASIAN',\n",
       " 'PEHANOSA',\n",
       " 'SPARX',\n",
       " 'BIRDE',\n",
       " 'aadi',\n",
       " 'K- FOOTLANCE']"
      ]
     },
     "execution_count": 147,
     "metadata": {},
     "output_type": "execute_result"
    }
   ],
   "source": [
    "brand[:100]"
   ]
  },
  {
   "cell_type": "code",
   "execution_count": 148,
   "id": "75fc1edc",
   "metadata": {},
   "outputs": [
    {
     "name": "stdout",
     "output_type": "stream",
     "text": [
      "srapping page 1\n",
      "srapping page 2\n",
      "srapping page 3\n",
      "srapping page 4\n"
     ]
    }
   ],
   "source": [
    "Desc = []\n",
    "\n",
    "for i in range(0,4):\n",
    "    print('srapping page',i+1)\n",
    "    product=driver.find_elements_by_xpath(\"//a[@class='IRpwTa']\")\n",
    "    for p in product:\n",
    "        Desc.append(p.text)\n",
    "    nxt_button = driver.find_elements_by_xpath(\"//a[@class='_1LKTO3']\")\n",
    "        \n",
    "    try:\n",
    "\n",
    "        driver.get(nxt_button[1].get_attribute('href'))\n",
    "\n",
    "    except:\n",
    "       \n",
    "        driver.get(nxt_button[0].get_attribute('href'))"
   ]
  },
  {
   "cell_type": "code",
   "execution_count": 149,
   "id": "66046d73",
   "metadata": {},
   "outputs": [
    {
     "data": {
      "text/plain": [
       "125"
      ]
     },
     "execution_count": 149,
     "metadata": {},
     "output_type": "execute_result"
    }
   ],
   "source": [
    "len(Desc)"
   ]
  },
  {
   "cell_type": "code",
   "execution_count": 150,
   "id": "27018fa4",
   "metadata": {},
   "outputs": [
    {
     "data": {
      "text/plain": [
       "['Sneakers For Men',\n",
       " 'Sneakers For Men',\n",
       " 'Sneakers For Men',\n",
       " 'Luxury Fashionable casual sneaker shoes Sneakers For Me...',\n",
       " \"Original Luxury Branded Fashionable Men's Casual Walkin...\",\n",
       " 'Classic Boat -1 Sneakers Sneakers For Men',\n",
       " 'Sneakers For Men',\n",
       " 'Modern Trendy Shoes Combo pack of 4 Sneakers For Men',\n",
       " 'Modern Trendy Shoes Sneakers For Men',\n",
       " 'Classic Boat -1 Sneakers Sneakers For Men',\n",
       " \"Casual , Partywear Sneakers Shoes For Men's And Boys Wh...\",\n",
       " 'Sneakers Sneakers For Men',\n",
       " \"Men's Sneakers Fashion Lightweight Running Shoes Tennis...\",\n",
       " 'Sneakers For Men',\n",
       " 'Sneakers For Men',\n",
       " 'Series 7 Sneakers For Men',\n",
       " 'Sneakers For Men',\n",
       " 'Sneakers For Men',\n",
       " 'Sports Running Shoes Sneakers For Men',\n",
       " 'Sneakers For Men',\n",
       " 'Sneakers For Men',\n",
       " '411 Casual Sneakers For Men',\n",
       " \"White Sneaker For Men's/Boy's Sneakers For Men\",\n",
       " 'Sneakers For Men',\n",
       " 'Sneakers For Men',\n",
       " 'White Sneaker For Men Sneakers For Men',\n",
       " 'Shark-41 Sneakers For Men',\n",
       " 'Casual Sneakers Black Shoes For Men Sneakers For Men',\n",
       " 'Men White Sneakers Sneakers For Men',\n",
       " 'Sneakers For Men',\n",
       " 'Luxury Fashionable casual sneaker shoes Sneakers For Me...',\n",
       " \"Original Luxury Branded Fashionable Men's Casual Walkin...\",\n",
       " 'Sneakers For Men',\n",
       " 'Sneakers For Men',\n",
       " 'Sneakers for men(black_6) Sneakers For Men',\n",
       " \"white Casual shoes,Sneakers for men's Sneakers For Men\",\n",
       " \"Echor Men's Sneakers Fashion Lightweight Running Shoes ...\",\n",
       " \"Men's Canvas Low Top Sneakers Lace-up Classic Casual Sn...\",\n",
       " 'Luxury Fashionable casual sneaker shoes Sneakers For Me...',\n",
       " 'Lattest Sneakers Shoe Sneakers For Men',\n",
       " 'Sneakers For Men',\n",
       " 'SM-322 Sneakers For Men',\n",
       " 'Sneakers For Men',\n",
       " 'Combo Pack of 4 Latest Collection Stylish Casual Loafer...',\n",
       " 'New Fashion Outdoor Trendy Lightweight Casual,Canvas St...',\n",
       " 'Fashion Outdoor Canvas Casual Light Weight Lace-up Even...',\n",
       " 'Combo Pack of 2 Casual Shoes Sneakers For Men',\n",
       " 'Trendy Fashion Combo Pack of 2 Sneakers For Men',\n",
       " 'Sneakers For Men',\n",
       " \"Men's Combo Pack of 02 Shoes for Men Casual Sneakers Ou...\",\n",
       " 'Trendy Sport Shoes For Men Pack Of 2 Sneakers For Men',\n",
       " 'Casual Sneakers Shoes For Men Sneakers For Men',\n",
       " 'Casual Sneakers Shoes For Men And Boys Sneakers For Men',\n",
       " 'Sneakers For Men',\n",
       " 'Sneakers For Men',\n",
       " 'Combo Pack of 5 Casual Shoes Sneakers For Men',\n",
       " 'Sneakers For Men',\n",
       " 'Combo Pack of 2 Casual Shoes Sneakers For Men',\n",
       " 'Synthetic Leather Casual Partywear Wedding Sneakers Sho...',\n",
       " \"Casual , Partywear Sneakers Shoes For Men's And Boys Wh...\",\n",
       " 'Sneakers For Men',\n",
       " 'Casual Sneakrs For Men Sneakers For Men',\n",
       " 'Combo Pack of 5 Casual Shoes Sneakers For Men',\n",
       " 'Sneakers For Men',\n",
       " 'Combo Pack of 2 Casual shoes Sneakers For Men',\n",
       " 'Modern & Trendy Collection Combo Pack of 02 Shoes for M...',\n",
       " 'Sneakers For Men',\n",
       " 'Puma Smash Vulc Sneakers For Men',\n",
       " 'Casual Shoes Sneakers For Men',\n",
       " \"Echor Men's Sneakers Fashion Lightweight Running Shoes ...\",\n",
       " 'Casuals, Canvas, Partywear Sneakers For Men',\n",
       " \"Original Luxury Branded Fashionable Men's Casual Walkin...\",\n",
       " 'Sneakers For Men',\n",
       " 'Casual Sneakers Shoes For Men And Boys Sneakers For Men',\n",
       " 'Sneakers For Men',\n",
       " 'Boys & Men Stylish, Comfortable Comfort Foam Shoes With...',\n",
       " '1259 smart black lace-ups sneakers for men Sneakers For...',\n",
       " 'Skypy-31 Walking Shoes,Training Shoes,Sneakers,Loafers,...',\n",
       " 'SM-162 Sneakers For Men',\n",
       " 'Combo Pack of 2 Casual Shoes Sneakers For Men',\n",
       " 'Sneakers For Men',\n",
       " 'Sneakers For Men',\n",
       " 'Sneakers For Men',\n",
       " 'Sneakers For Men',\n",
       " 'Sneakers For Men',\n",
       " 'Modern & Trendy Collection Combo Pack of 02 Shoes for M...',\n",
       " 'Acrux V1 Sneakers For Men',\n",
       " 'Sneakers For Men',\n",
       " 'Sneakers For Men',\n",
       " 'Sneakers For Men',\n",
       " 'Sneakers For Men',\n",
       " 'Casual shoes Sneakers For Men',\n",
       " 'Sneakers Shoes For Men Black Sneakers For Men',\n",
       " 'Sneakers For Men',\n",
       " 'Sneakers For Men',\n",
       " 'Sneakers For Men',\n",
       " \"Men's Sneakers Fashion Lightweight Running Shoes Tennis...\",\n",
       " 'Sneakers For Men',\n",
       " 'Men Casual Shoes Sneakers For Men',\n",
       " '5011-Latest Collection Stylish Casual Loafer Sneakers S...']"
      ]
     },
     "execution_count": 150,
     "metadata": {},
     "output_type": "execute_result"
    }
   ],
   "source": [
    "Desc[:100]"
   ]
  },
  {
   "cell_type": "code",
   "execution_count": 159,
   "id": "80def817",
   "metadata": {},
   "outputs": [
    {
     "name": "stdout",
     "output_type": "stream",
     "text": [
      "srapping page 1\n",
      "srapping page 2\n",
      "srapping page 3\n"
     ]
    }
   ],
   "source": [
    "Price = []\n",
    "\n",
    "for i in range(0,3):\n",
    "    print('srapping page',i+1)\n",
    "    product=driver.find_elements_by_xpath(\"//div[@class='_30jeq3']\")\n",
    "    for p in product:\n",
    "        Price.append(p.text)\n",
    "    nxt_button = driver.find_elements_by_xpath(\"//a[@class='_1LKTO3']\")\n",
    "        \n",
    "    try:\n",
    "\n",
    "        driver.get(nxt_button[1].get_attribute('href'))\n",
    "\n",
    "    except:\n",
    "       \n",
    "        driver.get(nxt_button[0].get_attribute('href'))"
   ]
  },
  {
   "cell_type": "code",
   "execution_count": 160,
   "id": "41ba8cfe",
   "metadata": {},
   "outputs": [
    {
     "data": {
      "text/plain": [
       "120"
      ]
     },
     "execution_count": 160,
     "metadata": {},
     "output_type": "execute_result"
    }
   ],
   "source": [
    "len(Price)"
   ]
  },
  {
   "cell_type": "code",
   "execution_count": 162,
   "id": "f141a6c3",
   "metadata": {},
   "outputs": [
    {
     "data": {
      "text/plain": [
       "['₹569',\n",
       " '₹449',\n",
       " '₹398',\n",
       " '₹449',\n",
       " '₹499',\n",
       " '₹242',\n",
       " '₹220',\n",
       " '₹474',\n",
       " '₹499',\n",
       " '₹898',\n",
       " '₹399',\n",
       " '₹699',\n",
       " '₹348',\n",
       " '₹372',\n",
       " '₹398',\n",
       " '₹398',\n",
       " '₹298',\n",
       " '₹499',\n",
       " '₹499',\n",
       " '₹429',\n",
       " '₹599',\n",
       " '₹2,984',\n",
       " '₹299',\n",
       " '₹359',\n",
       " '₹259',\n",
       " '₹680',\n",
       " '₹426',\n",
       " '₹449',\n",
       " '₹331',\n",
       " '₹549',\n",
       " '₹407',\n",
       " '₹549',\n",
       " '₹499',\n",
       " '₹451',\n",
       " '₹499',\n",
       " '₹920',\n",
       " '₹721',\n",
       " '₹189',\n",
       " '₹299',\n",
       " '₹1,999',\n",
       " '₹499',\n",
       " '₹199',\n",
       " '₹399',\n",
       " '₹569',\n",
       " '₹499',\n",
       " '₹386',\n",
       " '₹499',\n",
       " '₹449',\n",
       " '₹649',\n",
       " '₹383',\n",
       " '₹299',\n",
       " '₹699',\n",
       " '₹999',\n",
       " '₹498',\n",
       " '₹398',\n",
       " '₹398',\n",
       " '₹549',\n",
       " '₹499',\n",
       " '₹630',\n",
       " '₹429',\n",
       " '₹498',\n",
       " '₹524',\n",
       " '₹578',\n",
       " '₹359',\n",
       " '₹735',\n",
       " '₹449',\n",
       " '₹499',\n",
       " '₹549',\n",
       " '₹399',\n",
       " '₹892',\n",
       " '₹449',\n",
       " '₹920',\n",
       " '₹749',\n",
       " '₹892',\n",
       " '₹429',\n",
       " '₹549',\n",
       " '₹384',\n",
       " '₹599',\n",
       " '₹666',\n",
       " '₹1,999',\n",
       " '₹359',\n",
       " '₹249',\n",
       " '₹499',\n",
       " '₹449',\n",
       " '₹2,193',\n",
       " '₹333',\n",
       " '₹399',\n",
       " '₹569',\n",
       " '₹499',\n",
       " '₹495',\n",
       " '₹1,905',\n",
       " '₹398',\n",
       " '₹499',\n",
       " '₹399',\n",
       " '₹474',\n",
       " '₹474',\n",
       " '₹499',\n",
       " '₹235',\n",
       " '₹549',\n",
       " '₹699']"
      ]
     },
     "execution_count": 162,
     "metadata": {},
     "output_type": "execute_result"
    }
   ],
   "source": [
    "Price[:100]"
   ]
  },
  {
   "cell_type": "markdown",
   "id": "c36517a3",
   "metadata": {},
   "source": [
    "Q7: Go to the link - https://www.myntra.com/shoes\n",
    "Set Price filter to “Rs. 7149 to Rs. 14099 ” , Color filter to “Black”, as shown inthe below image.\n",
    "And then scrape First 100 shoes data you get. The data should include “Brand” of the shoes , Short Shoe description, price of the shoe as shown in the below image"
   ]
  },
  {
   "cell_type": "code",
   "execution_count": 6,
   "id": "20cc8cb7",
   "metadata": {},
   "outputs": [],
   "source": [
    "url = 'https://www.myntra.com/shoes'\n",
    "driver.get(url)\n"
   ]
  },
  {
   "cell_type": "code",
   "execution_count": 15,
   "id": "752d64db",
   "metadata": {},
   "outputs": [
    {
     "data": {
      "text/plain": [
       "<selenium.webdriver.remote.webelement.WebElement (session=\"81b03d558bda619117d6c1d52bbf9416\", element=\"f205daf3-5d9b-45f8-9cfb-08865c473e7c\")>"
      ]
     },
     "execution_count": 15,
     "metadata": {},
     "output_type": "execute_result"
    }
   ],
   "source": [
    "# Apply price filter\n",
    "price_check = driver.find_element_by_xpath('/html/body/div[2]/div/div[1]/main/div[3]/div[1]/section/div/div[5]/ul/li[2]/label')\n",
    "price_check"
   ]
  },
  {
   "cell_type": "code",
   "execution_count": 17,
   "id": "cf7da886",
   "metadata": {},
   "outputs": [],
   "source": [
    "price_check.click()"
   ]
  },
  {
   "cell_type": "code",
   "execution_count": 18,
   "id": "2379a4ae",
   "metadata": {},
   "outputs": [
    {
     "data": {
      "text/plain": [
       "<selenium.webdriver.remote.webelement.WebElement (session=\"81b03d558bda619117d6c1d52bbf9416\", element=\"1a1aa374-64f1-4e87-9add-2278fbdf1bbb\")>"
      ]
     },
     "execution_count": 18,
     "metadata": {},
     "output_type": "execute_result"
    }
   ],
   "source": [
    "# Apply color filter\n",
    "color_check = driver.find_element_by_xpath('/html/body/div[2]/div/div[1]/main/div[3]/div[1]/section/div/div[6]/ul/li[1]/label')\n",
    "color_check"
   ]
  },
  {
   "cell_type": "code",
   "execution_count": 20,
   "id": "2fcf2e06",
   "metadata": {},
   "outputs": [],
   "source": [
    "color_check.click()"
   ]
  },
  {
   "cell_type": "code",
   "execution_count": 27,
   "id": "a1e184e3",
   "metadata": {},
   "outputs": [
    {
     "name": "stdout",
     "output_type": "stream",
     "text": [
      "srapping page 1\n",
      "srapping page 2\n",
      "srapping page 3\n",
      "srapping page 4\n",
      "srapping page 5\n"
     ]
    }
   ],
   "source": [
    "# Scrape first 100  data for shoes\"Price\"\n",
    "Price = []\n",
    "\n",
    "for i in range(0,5):\n",
    "    print('srapping page',i+1)\n",
    "    product=driver.find_elements_by_xpath(\"//span[@class='product-discountedPrice']\")\n",
    "    for p in product:\n",
    "        Price.append(p.text)\n",
    "    nxt_button = driver.find_elements_by_xpath(\"//a[@rel='next']\")\n",
    "        \n",
    "    try:\n",
    "\n",
    "        driver.get(nxt_button[1].get_attribute('href'))\n",
    "\n",
    "    except:\n",
    "       \n",
    "        driver.get(nxt_button[0].get_attribute('href'))"
   ]
  },
  {
   "cell_type": "code",
   "execution_count": 28,
   "id": "0243587a",
   "metadata": {},
   "outputs": [
    {
     "data": {
      "text/plain": [
       "105"
      ]
     },
     "execution_count": 28,
     "metadata": {},
     "output_type": "execute_result"
    }
   ],
   "source": [
    "len(Price)"
   ]
  },
  {
   "cell_type": "code",
   "execution_count": 29,
   "id": "1b45ceb7",
   "metadata": {},
   "outputs": [
    {
     "data": {
      "text/plain": [
       "['Rs. 7149',\n",
       " 'Rs. 8449',\n",
       " 'Rs. 7999',\n",
       " 'Rs. 9810',\n",
       " 'Rs. 8449',\n",
       " 'Rs. 7999',\n",
       " 'Rs. 8399',\n",
       " 'Rs. 7999',\n",
       " 'Rs. 10710',\n",
       " 'Rs. 8399',\n",
       " 'Rs. 7149',\n",
       " 'Rs. 13410',\n",
       " 'Rs. 12150',\n",
       " 'Rs. 9546',\n",
       " 'Rs. 7699',\n",
       " 'Rs. 7199',\n",
       " 'Rs. 10710',\n",
       " 'Rs. 8399',\n",
       " 'Rs. 8550',\n",
       " 'Rs. 8910',\n",
       " 'Rs. 12510',\n",
       " 'Rs. 9810',\n",
       " 'Rs. 9810',\n",
       " 'Rs. 9450',\n",
       " 'Rs. 11954',\n",
       " 'Rs. 8505',\n",
       " 'Rs. 9869',\n",
       " 'Rs. 11250',\n",
       " 'Rs. 9810',\n",
       " 'Rs. 8505',\n",
       " 'Rs. 9810',\n",
       " 'Rs. 13410',\n",
       " 'Rs. 10499',\n",
       " 'Rs. 7191',\n",
       " 'Rs. 7500',\n",
       " 'Rs. 9099',\n",
       " 'Rs. 8499',\n",
       " 'Rs. 7224',\n",
       " 'Rs. 13050',\n",
       " 'Rs. 12675',\n",
       " 'Rs. 7199',\n",
       " 'Rs. 7799',\n",
       " 'Rs. 7693',\n",
       " 'Rs. 13674',\n",
       " 'Rs. 12905',\n",
       " 'Rs. 7921',\n",
       " 'Rs. 12510',\n",
       " 'Rs. 7590',\n",
       " 'Rs. 7799',\n",
       " 'Rs. 7191',\n",
       " 'Rs. 8799',\n",
       " 'Rs. 12599',\n",
       " 'Rs. 10350',\n",
       " 'Rs. 8910',\n",
       " 'Rs. 7699',\n",
       " 'Rs. 9450',\n",
       " 'Rs. 7199',\n",
       " 'Rs. 7722',\n",
       " 'Rs. 9555',\n",
       " 'Rs. 12000',\n",
       " 'Rs. 7560',\n",
       " 'Rs. 10350',\n",
       " 'Rs. 7699',\n",
       " 'Rs. 8399',\n",
       " 'Rs. 9749',\n",
       " 'Rs. 8799',\n",
       " 'Rs. 9799',\n",
       " 'Rs. 9199',\n",
       " 'Rs. 11199',\n",
       " 'Rs. 11625',\n",
       " 'Rs. 7650',\n",
       " 'Rs. 12599',\n",
       " 'Rs. 10464',\n",
       " 'Rs. 9810',\n",
       " 'Rs. 10500',\n",
       " 'Rs. 7999',\n",
       " 'Rs. 13050',\n",
       " 'Rs. 7499',\n",
       " 'Rs. 8910',\n",
       " 'Rs. 9810',\n",
       " 'Rs. 8399',\n",
       " 'Rs. 8399',\n",
       " 'Rs. 13950',\n",
       " 'Rs. 8550',\n",
       " 'Rs. 7199',\n",
       " 'Rs. 7999',\n",
       " 'Rs. 10499',\n",
       " 'Rs. 7999',\n",
       " 'Rs. 9199',\n",
       " 'Rs. 13599',\n",
       " 'Rs. 7699',\n",
       " 'Rs. 7499',\n",
       " 'Rs. 11899',\n",
       " 'Rs. 9499',\n",
       " 'Rs. 9900',\n",
       " 'Rs. 7921',\n",
       " 'Rs. 9799',\n",
       " 'Rs. 7505',\n",
       " 'Rs. 7149',\n",
       " 'Rs. 8010']"
      ]
     },
     "execution_count": 29,
     "metadata": {},
     "output_type": "execute_result"
    }
   ],
   "source": [
    "Price[:100]"
   ]
  },
  {
   "cell_type": "code",
   "execution_count": 30,
   "id": "48fa3080",
   "metadata": {},
   "outputs": [
    {
     "name": "stdout",
     "output_type": "stream",
     "text": [
      "srapping page 1\n",
      "srapping page 2\n",
      "srapping page 3\n",
      "srapping page 4\n",
      "srapping page 5\n"
     ]
    }
   ],
   "source": [
    "# Scrape first 100  data for shoes\"Brand\"\n",
    "Brand = []\n",
    "\n",
    "for i in range(0,5):\n",
    "    print('srapping page',i+1)\n",
    "    product=driver.find_elements_by_xpath(\"//div[@class='product-productMetaInfo']/h3\")\n",
    "    for p in product:\n",
    "        Brand.append(p.text)\n",
    "    nxt_button = driver.find_elements_by_xpath(\"//a[@rel='next']\")\n",
    "        \n",
    "    try:\n",
    "\n",
    "        driver.get(nxt_button[1].get_attribute('href'))\n",
    "\n",
    "    except:\n",
    "       \n",
    "        driver.get(nxt_button[0].get_attribute('href'))"
   ]
  },
  {
   "cell_type": "code",
   "execution_count": 31,
   "id": "3396a639",
   "metadata": {},
   "outputs": [
    {
     "data": {
      "text/plain": [
       "250"
      ]
     },
     "execution_count": 31,
     "metadata": {},
     "output_type": "execute_result"
    }
   ],
   "source": [
    "len(Brand)"
   ]
  },
  {
   "cell_type": "code",
   "execution_count": 32,
   "id": "0119a068",
   "metadata": {},
   "outputs": [
    {
     "data": {
      "text/plain": [
       "['Puma',\n",
       " 'Puma',\n",
       " 'PUMA Motorsport',\n",
       " 'Saint G',\n",
       " 'Puma',\n",
       " 'RARE RABBIT',\n",
       " 'Cole Haan',\n",
       " 'Calvin Klein',\n",
       " 'ASICS',\n",
       " 'Bugatti',\n",
       " 'Bugatti',\n",
       " 'Saint G',\n",
       " 'DAVINCHI',\n",
       " 'DAVINCHI',\n",
       " 'Geox',\n",
       " 'RARE RABBIT',\n",
       " 'Saint G',\n",
       " 'Heel & Buckle London',\n",
       " 'Saint G',\n",
       " 'Saint G',\n",
       " 'Puma',\n",
       " 'Geox',\n",
       " 'Columbia',\n",
       " 'Bugatti',\n",
       " 'Tommy Hilfiger',\n",
       " 'J.FONTINI',\n",
       " 'Xtep',\n",
       " 'J.FONTINI',\n",
       " 'J.FONTINI',\n",
       " 'Louis Philippe',\n",
       " 'DAVINCHI',\n",
       " 'Geox',\n",
       " 'DAVINCHI',\n",
       " 'DAVINCHI',\n",
       " 'Geox',\n",
       " 'Pavers England',\n",
       " 'Geox',\n",
       " 'Saint G',\n",
       " 'Geox',\n",
       " 'Cole Haan',\n",
       " 'Geox',\n",
       " 'Cole Haan',\n",
       " 'DAVINCHI',\n",
       " 'Pavers England',\n",
       " 'Pavers England',\n",
       " 'Saint G',\n",
       " 'Pavers England',\n",
       " 'Saint G',\n",
       " 'Saint G',\n",
       " 'Saint G',\n",
       " 'Saint G',\n",
       " 'Heel & Buckle London',\n",
       " 'Saint G',\n",
       " 'Saint G',\n",
       " 'Geox',\n",
       " 'Saint G',\n",
       " 'Saint G',\n",
       " 'Saint G',\n",
       " 'Saint G',\n",
       " 'Saint G',\n",
       " 'Saint G',\n",
       " 'Saint G',\n",
       " 'Geox',\n",
       " 'MANGO',\n",
       " 'fitflop',\n",
       " 'Saint G',\n",
       " 'Cole Haan',\n",
       " 'Kenkoh',\n",
       " 'Nike',\n",
       " 'ALDO',\n",
       " 'Hush Puppies',\n",
       " 'Skechers',\n",
       " 'Skechers',\n",
       " 'Hush Puppies',\n",
       " 'Hush Puppies',\n",
       " 'Nike',\n",
       " 'Hush Puppies',\n",
       " 'ECCO',\n",
       " 'Hush Puppies',\n",
       " 'Saint G',\n",
       " 'Saint G',\n",
       " 'Bugatti',\n",
       " 'Hush Puppies',\n",
       " 'ALDO',\n",
       " 'Heel & Buckle London',\n",
       " 'DAVINCHI',\n",
       " 'Saint G',\n",
       " 'Saint G',\n",
       " 'Saint G',\n",
       " 'Saint G',\n",
       " 'ECCO',\n",
       " 'ECCO',\n",
       " 'MANGO',\n",
       " 'ECCO',\n",
       " 'Puma',\n",
       " 'MANGO',\n",
       " 'Tommy Hilfiger',\n",
       " 'UNDER ARMOUR',\n",
       " 'Pavers England',\n",
       " 'J.FONTINI']"
      ]
     },
     "execution_count": 32,
     "metadata": {},
     "output_type": "execute_result"
    }
   ],
   "source": [
    "Brand[:100]"
   ]
  },
  {
   "cell_type": "code",
   "execution_count": 33,
   "id": "3a7cdb34",
   "metadata": {},
   "outputs": [
    {
     "name": "stdout",
     "output_type": "stream",
     "text": [
      "srapping page 1\n",
      "srapping page 2\n",
      "srapping page 3\n",
      "srapping page 4\n",
      "srapping page 5\n"
     ]
    }
   ],
   "source": [
    "# Scrape first 100  data for shoes\"Short Description\"\n",
    "Desc = []\n",
    "\n",
    "for i in range(0,5):\n",
    "    print('srapping page',i+1)\n",
    "    product=driver.find_elements_by_xpath(\"//div[@class='product-productMetaInfo']/h4\")\n",
    "    for p in product:\n",
    "        Desc.append(p.text)\n",
    "    nxt_button = driver.find_elements_by_xpath(\"//a[@rel='next']\")\n",
    "        \n",
    "    try:\n",
    "\n",
    "        driver.get(nxt_button[1].get_attribute('href'))\n",
    "\n",
    "    except:\n",
    "       \n",
    "        driver.get(nxt_button[0].get_attribute('href'))"
   ]
  },
  {
   "cell_type": "code",
   "execution_count": 34,
   "id": "19f619f9",
   "metadata": {},
   "outputs": [
    {
     "data": {
      "text/plain": [
       "500"
      ]
     },
     "execution_count": 34,
     "metadata": {},
     "output_type": "execute_result"
    }
   ],
   "source": [
    "len(Desc)"
   ]
  },
  {
   "cell_type": "code",
   "execution_count": 35,
   "id": "299c6556",
   "metadata": {},
   "outputs": [
    {
     "data": {
      "text/plain": [
       "['Men Running Shoes',\n",
       " '',\n",
       " 'Men Magnify Nitro Running',\n",
       " '',\n",
       " 'Unisex Mercedes F1 Sneakers',\n",
       " '',\n",
       " 'Men Mid-Top Chelsea Boots',\n",
       " '',\n",
       " 'Women Magnify Nitro Shoes',\n",
       " '',\n",
       " 'Men Leather Flat Boots',\n",
       " '',\n",
       " 'Men GENERATION ZEROGRAND STITCHLITE',\n",
       " '',\n",
       " 'Men Solid Suede Sneakers',\n",
       " '',\n",
       " 'Men Colourblocked PU Sneakers',\n",
       " '',\n",
       " 'Men Textured Leather High-Top Flat Boots',\n",
       " '',\n",
       " 'Men Running Shoes',\n",
       " '',\n",
       " 'Men Leather Chelsea Boots',\n",
       " '',\n",
       " 'Men Solid Leather Formal Derbys',\n",
       " '',\n",
       " 'Men Textured Formal Leather Loafers',\n",
       " '',\n",
       " 'Men Leather Flat Boots',\n",
       " '',\n",
       " 'Men Textured Leather Loafers',\n",
       " '',\n",
       " 'Leather Wedge Heeled Boots with Buckles',\n",
       " '',\n",
       " 'Men Formal Leather Derby',\n",
       " '',\n",
       " 'Suede High-Top Flatform Heeled Boots',\n",
       " '',\n",
       " 'Embellished Leather Block Heeled Boots',\n",
       " '',\n",
       " 'Women Velocity NITRO Runners',\n",
       " '',\n",
       " 'Women Leather Pumps',\n",
       " '',\n",
       " 'PEAKFREAK OUTDRY Trekking Shoe',\n",
       " '',\n",
       " 'Men Black Walking Shoes',\n",
       " '',\n",
       " 'Women Hybrid Leather Sneakers',\n",
       " '',\n",
       " 'Men Textured Leather Loafers',\n",
       " '',\n",
       " 'Men Running Shoes',\n",
       " '',\n",
       " 'Men Textured Leather Loafers',\n",
       " '',\n",
       " 'Men Black Leather Loafers',\n",
       " '',\n",
       " 'Men Leather Formal Slip-Ons',\n",
       " '',\n",
       " 'Men Formal Leather Slip-Ons',\n",
       " '',\n",
       " 'Men Leather Loafers',\n",
       " '',\n",
       " 'Ustraa black',\n",
       " '',\n",
       " 'Men Textured Formal Leather Loafers',\n",
       " '',\n",
       " 'Women Solid Leather Pumps',\n",
       " '',\n",
       " 'Men Leather Driving Shoes',\n",
       " '',\n",
       " 'Women Solid Leather Pumps',\n",
       " '',\n",
       " 'Women Leather Heeled Boots',\n",
       " '',\n",
       " 'Men Leather Formal Derbys',\n",
       " '',\n",
       " 'Women Open Toe Flats',\n",
       " '',\n",
       " 'Women Solid Leather Ballerinas',\n",
       " '',\n",
       " 'Women Solid Leather Ballerinas',\n",
       " '',\n",
       " 'Men Textured Leather Formal Slip-Ons',\n",
       " '',\n",
       " 'Men Solid Leather Formal Loafers',\n",
       " '',\n",
       " 'Men Textured Leather Formal Slip-On Shoes',\n",
       " '',\n",
       " 'Leather Block Heeled Boots',\n",
       " '',\n",
       " 'Men Solid Leather Formal Derbys',\n",
       " '',\n",
       " 'Leather Kitten Heeled Boots',\n",
       " '',\n",
       " 'Leather Block Heeled Boots with Bows',\n",
       " '',\n",
       " 'Leather Platform Heeled Boots',\n",
       " '']"
      ]
     },
     "execution_count": 35,
     "metadata": {},
     "output_type": "execute_result"
    }
   ],
   "source": [
    "Desc[:100]"
   ]
  },
  {
   "cell_type": "markdown",
   "id": "cdb9151d",
   "metadata": {},
   "source": [
    "Q8: Go to webpage https://www.amazon.in/\n",
    "Enter “Laptop” in the search field and then click the search icon.\n",
    "Then set CPU Type filter to “Intel Core i7” and “Intel Core i9”"
   ]
  },
  {
   "cell_type": "code",
   "execution_count": 47,
   "id": "0ea948ac",
   "metadata": {},
   "outputs": [],
   "source": [
    "url = 'https://www.amazon.in/'\n",
    "driver.get(url)\n",
    "\n",
    "\n"
   ]
  },
  {
   "cell_type": "code",
   "execution_count": 48,
   "id": "a2bb3287",
   "metadata": {},
   "outputs": [],
   "source": [
    "# finding web element for search job bar using id\n",
    "search_job = driver.find_element_by_id(\"twotabsearchtextbox\")\n",
    "search_job\n",
    "\n",
    "# write on serach bar\n",
    "search_job.send_keys(\"Laptop\")\n",
    "\n",
    "# clicking using absolute xpath function\n",
    "search_btn = driver.find_element_by_xpath(\"//div[@class='nav-search-submit nav-sprite']\")\n",
    "search_btn\n",
    "\n",
    "search_btn.click()"
   ]
  },
  {
   "cell_type": "code",
   "execution_count": 49,
   "id": "272c183a",
   "metadata": {},
   "outputs": [
    {
     "data": {
      "text/plain": [
       "<selenium.webdriver.remote.webelement.WebElement (session=\"f71578aba7973ac510ffb11c53ed7db3\", element=\"9a28b1c0-dbee-480b-a490-204f44d406bb\")>"
      ]
     },
     "execution_count": 49,
     "metadata": {},
     "output_type": "execute_result"
    }
   ],
   "source": [
    "cpu_check = driver.find_element_by_xpath('/html/body/div[1]/div[2]/div[1]/div[2]/div/div[3]/span/div[1]/span/div/div/div[6]/div/div/div[1]/div/span[1]/a[13]/div/span')\n",
    "cpu_check"
   ]
  },
  {
   "cell_type": "code",
   "execution_count": 50,
   "id": "5aad064c",
   "metadata": {},
   "outputs": [],
   "source": [
    "cpu_check.click()"
   ]
  },
  {
   "cell_type": "code",
   "execution_count": 27,
   "id": "ea587bac",
   "metadata": {},
   "outputs": [
    {
     "data": {
      "text/plain": [
       "['Dell 14 (2021) i7-1195G7 2in1 Touch Screen Laptop, 16GB, 512GB SSD, Win 10 + MS Office, 14.0\" (35.56 cms) FHD Display, Backlit KB, FPR + Active Pen, Platinum Silver (Inspiron 5410, D560596WIN9S)',\n",
       " 'Lenovo ThinkBook Yoga 14s Intel Core i7 11th Gen 14\"(35.56cm) FHD IPS 300 nits 100% sRGB Dolby Vision 2-in-1 Touchscreen Laptop (16GB RAM/512GB SSD/Windows 10/MS Office/Active Pen/1.50 kg) 20WEA01EIH',\n",
       " 'ASUS VivoBook 14 (2021), 14-inch (35.56 cms) FHD, Intel Core i7-1065G7 10th Gen, Thin and Light Laptop (16GB/512GB SSD/Integrated Graphics/Office 2021/Windows 11/Silver/1.6 Kg), X415JA-EK701WS',\n",
       " 'Acer Nitro 5 AN515-57 Gaming Laptop | Intel Core i7-11800H |NVIDIA GeForce RTX 3050 Ti Laptop Graphics |15.6\" FHD 144Hz IPS Display |16GB DDR4 |256GB SSD+1TB HDD |Killer Wi-Fi 6 |RGB Backlit Keyboard',\n",
       " 'HP Pavilion 13, 11th Gen Intel Core i7, 13.3-inch(33.8 cm) FHD,IPS, Micro-Edge Laptop (16GB RAM/ 1TB SSD/ Win 10/ FPR/Audio B&O/Alexa Built-in/MS Office/ Ceramic White/ 1.24 Kg) -13-bb0078TU',\n",
       " 'Lenovo ThinkBook 13s Intel 11th Gen Core i7 13.3\"(33.78 cm) WQXGA IPS 300 nits 100% sRGB Dolby Vision Thin and Light Laptop (16GB/512GB SSD/Windows 10/MS Office/FPR/Mineral Grey/1.26 Kg), 20V9A05FIH',\n",
       " 'ASUS TUF Gaming F15 (2021) 15.6-inch (39.62 cms) FHD 144Hz, Intel Core i7-11800H 11th Gen, RTX 3060 6GB Graphics, Gaming Laptop (16GB/1TB SSD/Windows 10/Gray/2.3 Kg), FX566HM-HN100T',\n",
       " 'Acer Predator Helios 300 11th Gen Intel Core i9-11900H 15.6\" (39.62cms) FHD IPS Gaming Laptop (32 GB/1TB SSD/Win 11 Home/8 GB Graphics/NVIDIA GeForce RTX 3070/300 Hz, Black, 2.3 kg) PH315-54',\n",
       " 'HP Pavilion 14, Intel 11th Gen Core i7 16GB RAM/1TB SSD 14-inch Laptop, FHD Micro-Edge Anti-Glare Display/Iris Xᵉ Graphics/Backlit KB/B&O Audio/Fingerprint Reader/ Win 11 Ready/1.41kg, 14-dv0058TU',\n",
       " '(Renewed) Dell Latitude E7470 Intel Core i7 6th Gen 14 inches Laptop /16 GB RAM/512 GB SSD/Windows 10 Pro/MS Office/HD Display/Integrated Graphics, 1.9 kg']"
      ]
     },
     "execution_count": 27,
     "metadata": {},
     "output_type": "execute_result"
    }
   ],
   "source": [
    "# scrape the laptop_title web element\n",
    "title_tags = driver.find_elements_by_xpath('//span[@class=\"a-size-medium a-color-base a-text-normal\"]')\n",
    "len(title_tags)\n",
    "title_tags[0:10]\n",
    "\n",
    "# scrape first 10 company_names\n",
    "laptop_titles = []\n",
    "\n",
    "for i in title_tags:\n",
    "    laptop_titles.append(i.text)\n",
    "len(laptop_titles)\n",
    "laptop_titles[0:10]"
   ]
  },
  {
   "cell_type": "code",
   "execution_count": 54,
   "id": "ec1246ed",
   "metadata": {},
   "outputs": [
    {
     "data": {
      "text/plain": [
       "['', '', '', '', '', '', '', '', '', '']"
      ]
     },
     "execution_count": 54,
     "metadata": {},
     "output_type": "execute_result"
    }
   ],
   "source": [
    "# scrape the laptop_title web element\n",
    "title_tags = driver.find_elements_by_xpath('//span[@class=\"a-icon-alt\"]')\n",
    "len(title_tags)\n",
    "title_tags[0:10]\n",
    "\n",
    "# scrape first 10 laptop rating\n",
    "laptop_rating = []\n",
    "\n",
    "for i in title_tags:\n",
    "    laptop_rating.append(i.text)\n",
    "len(laptop_rating)\n",
    "laptop_rating[0:10]"
   ]
  },
  {
   "cell_type": "code",
   "execution_count": 53,
   "id": "5893a87d",
   "metadata": {},
   "outputs": [
    {
     "data": {
      "text/plain": [
       "30"
      ]
     },
     "execution_count": 53,
     "metadata": {},
     "output_type": "execute_result"
    }
   ],
   "source": [
    "len(title_tags)"
   ]
  },
  {
   "cell_type": "code",
   "execution_count": 55,
   "id": "2cc26d07",
   "metadata": {},
   "outputs": [
    {
     "data": {
      "text/plain": [
       "['95,490',\n",
       " '57,990',\n",
       " '59,990',\n",
       " '89,990',\n",
       " '86,990',\n",
       " '79,990',\n",
       " '1,14,990',\n",
       " '1,79,990',\n",
       " '44,990',\n",
       " '82,990']"
      ]
     },
     "execution_count": 55,
     "metadata": {},
     "output_type": "execute_result"
    }
   ],
   "source": [
    "# scrape the laptop_price web element\n",
    "price_tags = driver.find_elements_by_xpath('//span[@class=\"a-price-whole\"]')\n",
    "price_tags\n",
    "\n",
    "# scrape first 10 laptop rating\n",
    "laptop_price = []\n",
    "\n",
    "for i in price_tags:\n",
    "    laptop_price.append(i.text)\n",
    "laptop_price[0:10]"
   ]
  },
  {
   "cell_type": "markdown",
   "id": "0f9bebf1",
   "metadata": {},
   "source": [
    "Q9: Write a python program to scrape data for first 10 job results for Data Scientist Designation in Noida location. You have to scrape company name, No. of days ago when job was posted, Rating of the company."
   ]
  },
  {
   "cell_type": "code",
   "execution_count": 37,
   "id": "85d8b7ab",
   "metadata": {},
   "outputs": [],
   "source": [
    "# Connect to webdriver\n",
    "driver = webdriver.Chrome(r'C:\\Users\\USER\\Downloads\\chromedriver_win32 (1)\\chromedriver.exe')"
   ]
  },
  {
   "cell_type": "code",
   "execution_count": 38,
   "id": "0bce4edf",
   "metadata": {},
   "outputs": [],
   "source": [
    "url = 'https://www.ambitionbox.com/'\n",
    "driver.get(url)\n"
   ]
  },
  {
   "cell_type": "code",
   "execution_count": 39,
   "id": "6a3b7c91",
   "metadata": {},
   "outputs": [
    {
     "data": {
      "text/plain": [
       "<selenium.webdriver.remote.webelement.WebElement (session=\"7836cd70a2ebf071d497efeb910265c7\", element=\"8ebe0226-4f81-479b-b310-13ec9b81051f\")>"
      ]
     },
     "execution_count": 39,
     "metadata": {},
     "output_type": "execute_result"
    }
   ],
   "source": [
    "Job = driver.find_element_by_xpath('/html/body/div[1]/nav/nav/a[6]')\n",
    "Job\n"
   ]
  },
  {
   "cell_type": "code",
   "execution_count": 32,
   "id": "e8a495e4",
   "metadata": {},
   "outputs": [],
   "source": [
    "Job.click()"
   ]
  },
  {
   "cell_type": "code",
   "execution_count": 33,
   "id": "53707bc5",
   "metadata": {},
   "outputs": [],
   "source": [
    "# scraping search_job web element\n",
    "search_Job = driver.find_element_by_xpath('/html/body/div/div/div/div[2]/div[1]/div/div/div/div/span/input')\n",
    "search_Job\n",
    "\n",
    "#sending data to web element\n",
    "search_Job.send_keys(\"Data Scientist\")\n",
    "\n",
    "# clicking using absolute xpath function\n",
    "search_btn = driver.find_element_by_xpath('/html/body/div/div/div/div[2]/div[1]/div/div/div/button/span')\n",
    "search_btn\n",
    "\n",
    "search_btn.click()"
   ]
  },
  {
   "cell_type": "code",
   "execution_count": 34,
   "id": "46a26321",
   "metadata": {},
   "outputs": [],
   "source": [
    "# clicking on loaction using absolute Xpath function\n",
    "\n",
    "location = driver.find_element_by_xpath('/html/body/div/div/div/div[2]/div[2]/div[1]/div/div/div/div[2]/div[1]/p')\n",
    "location\n",
    "\n",
    "location.click()"
   ]
  },
  {
   "cell_type": "code",
   "execution_count": 35,
   "id": "3ca78798",
   "metadata": {},
   "outputs": [],
   "source": [
    "#finding web element search loaction search bar\n",
    "search_loc = driver.find_element_by_xpath('/html/body/div/div/div/div[2]/div[2]/div[1]/div/div/div/div[2]/div[2]/div/div[2]/input')\n",
    "search_loc\n",
    "\n",
    "# selecting location Noida by using absolute xpath\n",
    "loc_check = driver.find_element_by_xpath('/html/body/div/div/div/div[2]/div[2]/div[1]/div/div/div/div[2]/div[2]/div/div[3]/div[1]/div[8]/div/label')\n",
    "loc_check.click()"
   ]
  },
  {
   "cell_type": "code",
   "execution_count": 84,
   "id": "890a435a",
   "metadata": {},
   "outputs": [
    {
     "data": {
      "text/plain": [
       "[<selenium.webdriver.remote.webelement.WebElement (session=\"b3457f8be73f6cc5682245825d019580\", element=\"98166a4c-a26f-4264-b61f-74853d44f52a\")>,\n",
       " <selenium.webdriver.remote.webelement.WebElement (session=\"b3457f8be73f6cc5682245825d019580\", element=\"254e0447-2110-4c1d-b7bf-b6d8b2e9c69f\")>,\n",
       " <selenium.webdriver.remote.webelement.WebElement (session=\"b3457f8be73f6cc5682245825d019580\", element=\"c1ae912f-d6f8-4237-a02a-ca5822bdf613\")>,\n",
       " <selenium.webdriver.remote.webelement.WebElement (session=\"b3457f8be73f6cc5682245825d019580\", element=\"5da3cb34-2ca0-4228-a4ee-2e40fae45aa6\")>,\n",
       " <selenium.webdriver.remote.webelement.WebElement (session=\"b3457f8be73f6cc5682245825d019580\", element=\"25a900ea-6dc4-4048-ae64-ee204c758ae1\")>,\n",
       " <selenium.webdriver.remote.webelement.WebElement (session=\"b3457f8be73f6cc5682245825d019580\", element=\"6742dd47-63ea-45ca-a787-5425101ca540\")>,\n",
       " <selenium.webdriver.remote.webelement.WebElement (session=\"b3457f8be73f6cc5682245825d019580\", element=\"6c7dfd75-f59f-4823-a924-8888e37120da\")>,\n",
       " <selenium.webdriver.remote.webelement.WebElement (session=\"b3457f8be73f6cc5682245825d019580\", element=\"ce53f4af-3de1-4aba-9b8b-4a72d864907b\")>,\n",
       " <selenium.webdriver.remote.webelement.WebElement (session=\"b3457f8be73f6cc5682245825d019580\", element=\"288acac3-87ec-4122-ae7e-61b499d48423\")>,\n",
       " <selenium.webdriver.remote.webelement.WebElement (session=\"b3457f8be73f6cc5682245825d019580\", element=\"3de05c40-deb6-43a6-98b6-a0f155937b61\")>]"
      ]
     },
     "execution_count": 84,
     "metadata": {},
     "output_type": "execute_result"
    }
   ],
   "source": [
    "# scrape the laptop_price web element\n",
    "title_tags = driver.find_elements_by_xpath(\"//a[@class='title noclick']\")\n",
    "title_tags\n",
    "\n"
   ]
  },
  {
   "cell_type": "code",
   "execution_count": 85,
   "id": "a6eb23d0",
   "metadata": {},
   "outputs": [
    {
     "data": {
      "text/plain": [
       "['Manager Data Scientist',\n",
       " 'Vice President - Data Science',\n",
       " 'Data Scientist',\n",
       " 'CogniTensor - Data Scientist (2-5 yrs)',\n",
       " 'CogniTensor - Data Scientist (2-5 yrs)',\n",
       " 'Data Scientist - Data Science/Model Development (0-6 yrs)',\n",
       " 'Manager - Data Scientist - Retail/BFSI (8-15 yrs)',\n",
       " 'Data Scientist - Consulting Firm (8-15 yrs)',\n",
       " 'RMS Risk Management - Data Scientist - CNN/Deep Learning (2-8 yrs)',\n",
       " 'Data Science - Senior Data Scientist']"
      ]
     },
     "execution_count": 85,
     "metadata": {},
     "output_type": "execute_result"
    }
   ],
   "source": [
    "# scrape first 10 laptop rating\n",
    "title = []\n",
    "\n",
    "for i in title_tags:\n",
    "    title.append(i.text)\n",
    "title[0:10]"
   ]
  },
  {
   "cell_type": "code",
   "execution_count": 36,
   "id": "d2b1b506",
   "metadata": {},
   "outputs": [
    {
     "data": {
      "text/plain": [
       "['2d ago',\n",
       " '8d ago',\n",
       " '25d ago',\n",
       " '9d ago',\n",
       " '10d ago',\n",
       " '21d ago',\n",
       " '21d ago',\n",
       " '21d ago',\n",
       " '3d ago',\n",
       " '29d ago']"
      ]
     },
     "execution_count": 36,
     "metadata": {},
     "output_type": "execute_result"
    }
   ],
   "source": [
    "# scrape web element\n",
    "post_tags = driver.find_elements_by_xpath(\"//div[@class='other-info']/span[1]\")\n",
    "post_tags\n",
    "\n",
    "# scrape first 10 element\n",
    "post = []\n",
    "\n",
    "for i in post_tags:\n",
    "    post.append(i.text)\n",
    "post[0:10]"
   ]
  },
  {
   "cell_type": "code",
   "execution_count": 93,
   "id": "864a8de2",
   "metadata": {},
   "outputs": [
    {
     "data": {
      "text/plain": [
       "['4.0', '3.7', '3.9', '3.7', '3.7', '4.1', '4.1', '4.1', '3.5', '3.7']"
      ]
     },
     "execution_count": 93,
     "metadata": {},
     "output_type": "execute_result"
    }
   ],
   "source": [
    "# scrape web element\n",
    "post_tags = driver.find_elements_by_xpath(\"//span[@class='body-small']\")\n",
    "post_tags\n",
    "\n",
    "# scrape first 10 element\n",
    "post = []\n",
    "\n",
    "for i in post_tags:\n",
    "    post.append(i.text)\n",
    "post[0:10]"
   ]
  },
  {
   "cell_type": "markdown",
   "id": "461e18bc",
   "metadata": {},
   "source": [
    "Q10: Write a python program to scrape the salary data for Data Scientist designation.\n",
    "You have to scrape Company name, Number of salaries, Average salary, Minsalary, Max Salary."
   ]
  },
  {
   "cell_type": "code",
   "execution_count": 40,
   "id": "51f88bfa",
   "metadata": {},
   "outputs": [],
   "source": [
    "url = 'https://www.ambitionbox.com/'\n",
    "driver.get(url)\n"
   ]
  },
  {
   "cell_type": "code",
   "execution_count": 41,
   "id": "002dddfe",
   "metadata": {},
   "outputs": [],
   "source": [
    "salary = driver.find_element_by_xpath('/html/body/div[1]/nav/nav/a[4]')\n",
    "salary.click()\n"
   ]
  },
  {
   "cell_type": "code",
   "execution_count": 42,
   "id": "e094d4ef",
   "metadata": {},
   "outputs": [],
   "source": [
    "# scraping search_job web element\n",
    "search_salary = driver.find_element_by_xpath('/html/body/div/div/div/main/section[1]/div[2]/div[1]/span/input')\n",
    "search_salary\n",
    "\n",
    "#sending data to web element\n",
    "search_salary.send_keys(\"Data Scientist\")\n",
    "\n"
   ]
  },
  {
   "cell_type": "code",
   "execution_count": 58,
   "id": "2ab15256",
   "metadata": {},
   "outputs": [
    {
     "data": {
      "text/plain": [
       "[<selenium.webdriver.remote.webelement.WebElement (session=\"7836cd70a2ebf071d497efeb910265c7\", element=\"b39c0120-a9c0-4a97-a86f-41cbca4a6195\")>,\n",
       " <selenium.webdriver.remote.webelement.WebElement (session=\"7836cd70a2ebf071d497efeb910265c7\", element=\"86b3b932-3407-4712-a523-6874fdb2f977\")>,\n",
       " <selenium.webdriver.remote.webelement.WebElement (session=\"7836cd70a2ebf071d497efeb910265c7\", element=\"12cb1d51-6508-40f7-a0ad-a07f68355ba9\")>,\n",
       " <selenium.webdriver.remote.webelement.WebElement (session=\"7836cd70a2ebf071d497efeb910265c7\", element=\"19075e52-7dc9-49d7-9c0f-8c57dd1962f0\")>,\n",
       " <selenium.webdriver.remote.webelement.WebElement (session=\"7836cd70a2ebf071d497efeb910265c7\", element=\"811428ad-2524-4b00-944a-450c9f7fee44\")>,\n",
       " <selenium.webdriver.remote.webelement.WebElement (session=\"7836cd70a2ebf071d497efeb910265c7\", element=\"7fdd6efa-0b6c-46bc-ac03-cd80f24857f4\")>,\n",
       " <selenium.webdriver.remote.webelement.WebElement (session=\"7836cd70a2ebf071d497efeb910265c7\", element=\"865b2ab0-81ed-4c33-acd0-d8529ca4a5de\")>,\n",
       " <selenium.webdriver.remote.webelement.WebElement (session=\"7836cd70a2ebf071d497efeb910265c7\", element=\"076f7af8-c184-498f-baee-8b9f6f51552a\")>,\n",
       " <selenium.webdriver.remote.webelement.WebElement (session=\"7836cd70a2ebf071d497efeb910265c7\", element=\"ac245688-6bb7-4b92-afe8-640f263f3ab9\")>,\n",
       " <selenium.webdriver.remote.webelement.WebElement (session=\"7836cd70a2ebf071d497efeb910265c7\", element=\"3c049ecc-c68c-4a9b-9c17-cb55b83d7163\")>]"
      ]
     },
     "execution_count": 58,
     "metadata": {},
     "output_type": "execute_result"
    }
   ],
   "source": [
    "# scrape company name web element\n",
    "company_tags = driver.find_elements_by_xpath(\"//div[@class='name']/a[1]\")\n",
    "company_tags[:10]\n",
    "\n"
   ]
  },
  {
   "cell_type": "code",
   "execution_count": 59,
   "id": "04eee6db",
   "metadata": {},
   "outputs": [
    {
     "data": {
      "text/plain": [
       "['Walmart',\n",
       " 'Ab Inbev',\n",
       " 'ZS',\n",
       " 'Fractal Analytics',\n",
       " 'Optum',\n",
       " 'UnitedHealth',\n",
       " 'Tiger Analytics',\n",
       " 'Verizon',\n",
       " 'Ganit Business Solutions',\n",
       " 'Ericsson']"
      ]
     },
     "execution_count": 59,
     "metadata": {},
     "output_type": "execute_result"
    }
   ],
   "source": [
    "company = []\n",
    "\n",
    "for i in company_tags:\n",
    "    company.append(i.text)\n",
    "company[0:10]"
   ]
  },
  {
   "cell_type": "code",
   "execution_count": 54,
   "id": "d5fa2065",
   "metadata": {},
   "outputs": [
    {
     "data": {
      "text/plain": [
       "['based on 10 salaries',\n",
       " 'based on 22 salaries',\n",
       " 'based on 14 salaries',\n",
       " 'based on 72 salaries',\n",
       " 'based on 23 salaries',\n",
       " 'based on 49 salaries',\n",
       " 'based on 27 salaries',\n",
       " 'based on 14 salaries',\n",
       " 'based on 13 salaries',\n",
       " 'based on 42 salaries']"
      ]
     },
     "execution_count": 54,
     "metadata": {},
     "output_type": "execute_result"
    }
   ],
   "source": [
    "# scrape web element\n",
    "salary_tags = driver.find_elements_by_xpath(\"//div[@class='name']/span[1]\")\n",
    "salary_tags\n",
    "\n",
    "# scrape first 10 element\n",
    "total = []\n",
    "\n",
    "for i in salary_tags:\n",
    "    total.append(i.text)\n",
    "total[0:10]"
   ]
  },
  {
   "cell_type": "code",
   "execution_count": 63,
   "id": "d62ec5d2",
   "metadata": {},
   "outputs": [
    {
     "data": {
      "text/plain": [
       "['₹ 28.7L',\n",
       " '₹ 19.5L',\n",
       " '₹ 15.8L',\n",
       " '₹ 15.0L',\n",
       " '₹ 15.0L',\n",
       " '₹ 13.5L',\n",
       " '₹ 13.5L',\n",
       " '₹ 12.7L',\n",
       " '₹ 12.4L',\n",
       " '₹ 11.9L']"
      ]
     },
     "execution_count": 63,
     "metadata": {},
     "output_type": "execute_result"
    }
   ],
   "source": [
    "# scrape web element\n",
    "tag = driver.find_elements_by_xpath(\"//div[@class='average-indicator-wrapper']/p[1]\")\n",
    "tag\n",
    "\n",
    "# scrape first 10 element\n",
    "avg_salary = []\n",
    "\n",
    "for i in tag:\n",
    "    avg_salary.append(i.text)\n",
    "avg_salary[0:10]"
   ]
  },
  {
   "cell_type": "code",
   "execution_count": 64,
   "id": "2e35a853",
   "metadata": {},
   "outputs": [
    {
     "data": {
      "text/plain": [
       "['₹ 17.7L',\n",
       " '₹ 15.0L',\n",
       " '₹ 9.8L',\n",
       " '₹ 9.5L',\n",
       " '₹ 11.0L',\n",
       " '₹ 7.2L',\n",
       " '₹ 8.3L',\n",
       " '₹ 10.0L',\n",
       " '₹ 8.5L',\n",
       " '₹ 5.8L']"
      ]
     },
     "execution_count": 64,
     "metadata": {},
     "output_type": "execute_result"
    }
   ],
   "source": [
    "# scrape web element\n",
    "tag = driver.find_elements_by_xpath(\"//div[@class='salary-values']/div[1]\")\n",
    "tag\n",
    "\n",
    "# scrape first 10 element\n",
    "min_salary = []\n",
    "\n",
    "for i in tag:\n",
    "    min_salary.append(i.text)\n",
    "min_salary[0:10]"
   ]
  },
  {
   "cell_type": "code",
   "execution_count": 65,
   "id": "061b9db9",
   "metadata": {},
   "outputs": [
    {
     "data": {
      "text/plain": [
       "['₹ 35.0L',\n",
       " '₹ 25.0L',\n",
       " '₹ 20.0L',\n",
       " '₹ 22.0L',\n",
       " '₹ 21.3L',\n",
       " '₹ 20.5L',\n",
       " '₹ 18.5L',\n",
       " '₹ 21.0L',\n",
       " '₹ 15.0L',\n",
       " '₹ 21.5L']"
      ]
     },
     "execution_count": 65,
     "metadata": {},
     "output_type": "execute_result"
    }
   ],
   "source": [
    "# scrape web element\n",
    "tag = driver.find_elements_by_xpath(\"//div[@class='salary-values']/div[2]\")\n",
    "tag\n",
    "\n",
    "# scrape first 10 element\n",
    "max_salary = []\n",
    "\n",
    "for i in tag:\n",
    "    max_salary.append(i.text)\n",
    "max_salary[0:10]"
   ]
  },
  {
   "cell_type": "code",
   "execution_count": 67,
   "id": "62eea4ec",
   "metadata": {},
   "outputs": [
    {
     "data": {
      "text/plain": [
       "['Data Scientist\\n . \\n3 yrs exp',\n",
       " 'Data Scientist\\n . \\n3-4 yrs exp',\n",
       " 'Data Scientist\\n . \\n2 yrs exp',\n",
       " 'Data Scientist\\n . \\n2-4 yrs exp',\n",
       " 'Data Scientist\\n . \\n3-4 yrs exp',\n",
       " 'Data Scientist\\n . \\n2-4 yrs exp',\n",
       " 'Data Scientist\\n . \\n3-4 yrs exp',\n",
       " 'Data Scientist\\n . \\n4 yrs exp',\n",
       " 'Data Scientist\\n . \\n4 yrs exp',\n",
       " 'Data Scientist\\n . \\n3-4 yrs exp']"
      ]
     },
     "execution_count": 67,
     "metadata": {},
     "output_type": "execute_result"
    }
   ],
   "source": [
    "# scrape web element\n",
    "tag = driver.find_elements_by_xpath(\"//div[@class='company-info']/div[2]\")\n",
    "tag\n",
    "\n",
    "# scrape first 10 element\n",
    "exp = []\n",
    "\n",
    "for i in tag:\n",
    "    exp.append(i.text)\n",
    "exp[0:10]"
   ]
  },
  {
   "cell_type": "code",
   "execution_count": 68,
   "id": "42378a84",
   "metadata": {},
   "outputs": [
    {
     "data": {
      "text/plain": [
       "(10, 10, 10, 10, 10)"
      ]
     },
     "execution_count": 68,
     "metadata": {},
     "output_type": "execute_result"
    }
   ],
   "source": [
    "len(company),len(avg_salary),len(min_salary),len(max_salary),len(exp)"
   ]
  },
  {
   "cell_type": "code",
   "execution_count": 70,
   "id": "4076de0a",
   "metadata": {},
   "outputs": [
    {
     "data": {
      "text/html": [
       "<div>\n",
       "<style scoped>\n",
       "    .dataframe tbody tr th:only-of-type {\n",
       "        vertical-align: middle;\n",
       "    }\n",
       "\n",
       "    .dataframe tbody tr th {\n",
       "        vertical-align: top;\n",
       "    }\n",
       "\n",
       "    .dataframe thead th {\n",
       "        text-align: right;\n",
       "    }\n",
       "</style>\n",
       "<table border=\"1\" class=\"dataframe\">\n",
       "  <thead>\n",
       "    <tr style=\"text-align: right;\">\n",
       "      <th></th>\n",
       "      <th>company_name</th>\n",
       "      <th>Average_salary</th>\n",
       "      <th>Min_salary</th>\n",
       "      <th>Max_salary</th>\n",
       "      <th>experience</th>\n",
       "    </tr>\n",
       "  </thead>\n",
       "  <tbody>\n",
       "    <tr>\n",
       "      <th>0</th>\n",
       "      <td>Walmart</td>\n",
       "      <td>₹ 28.7L</td>\n",
       "      <td>₹ 17.7L</td>\n",
       "      <td>₹ 35.0L</td>\n",
       "      <td>Data Scientist\\n . \\n3 yrs exp</td>\n",
       "    </tr>\n",
       "    <tr>\n",
       "      <th>1</th>\n",
       "      <td>Ab Inbev</td>\n",
       "      <td>₹ 19.5L</td>\n",
       "      <td>₹ 15.0L</td>\n",
       "      <td>₹ 25.0L</td>\n",
       "      <td>Data Scientist\\n . \\n3-4 yrs exp</td>\n",
       "    </tr>\n",
       "    <tr>\n",
       "      <th>2</th>\n",
       "      <td>ZS</td>\n",
       "      <td>₹ 15.8L</td>\n",
       "      <td>₹ 9.8L</td>\n",
       "      <td>₹ 20.0L</td>\n",
       "      <td>Data Scientist\\n . \\n2 yrs exp</td>\n",
       "    </tr>\n",
       "    <tr>\n",
       "      <th>3</th>\n",
       "      <td>Fractal Analytics</td>\n",
       "      <td>₹ 15.0L</td>\n",
       "      <td>₹ 9.5L</td>\n",
       "      <td>₹ 22.0L</td>\n",
       "      <td>Data Scientist\\n . \\n2-4 yrs exp</td>\n",
       "    </tr>\n",
       "    <tr>\n",
       "      <th>4</th>\n",
       "      <td>Optum</td>\n",
       "      <td>₹ 15.0L</td>\n",
       "      <td>₹ 11.0L</td>\n",
       "      <td>₹ 21.3L</td>\n",
       "      <td>Data Scientist\\n . \\n3-4 yrs exp</td>\n",
       "    </tr>\n",
       "    <tr>\n",
       "      <th>5</th>\n",
       "      <td>UnitedHealth</td>\n",
       "      <td>₹ 13.5L</td>\n",
       "      <td>₹ 7.2L</td>\n",
       "      <td>₹ 20.5L</td>\n",
       "      <td>Data Scientist\\n . \\n2-4 yrs exp</td>\n",
       "    </tr>\n",
       "    <tr>\n",
       "      <th>6</th>\n",
       "      <td>Tiger Analytics</td>\n",
       "      <td>₹ 13.5L</td>\n",
       "      <td>₹ 8.3L</td>\n",
       "      <td>₹ 18.5L</td>\n",
       "      <td>Data Scientist\\n . \\n3-4 yrs exp</td>\n",
       "    </tr>\n",
       "    <tr>\n",
       "      <th>7</th>\n",
       "      <td>Verizon</td>\n",
       "      <td>₹ 12.7L</td>\n",
       "      <td>₹ 10.0L</td>\n",
       "      <td>₹ 21.0L</td>\n",
       "      <td>Data Scientist\\n . \\n4 yrs exp</td>\n",
       "    </tr>\n",
       "    <tr>\n",
       "      <th>8</th>\n",
       "      <td>Ganit Business Solutions</td>\n",
       "      <td>₹ 12.4L</td>\n",
       "      <td>₹ 8.5L</td>\n",
       "      <td>₹ 15.0L</td>\n",
       "      <td>Data Scientist\\n . \\n4 yrs exp</td>\n",
       "    </tr>\n",
       "    <tr>\n",
       "      <th>9</th>\n",
       "      <td>Ericsson</td>\n",
       "      <td>₹ 11.9L</td>\n",
       "      <td>₹ 5.8L</td>\n",
       "      <td>₹ 21.5L</td>\n",
       "      <td>Data Scientist\\n . \\n3-4 yrs exp</td>\n",
       "    </tr>\n",
       "  </tbody>\n",
       "</table>\n",
       "</div>"
      ],
      "text/plain": [
       "               company_name Average_salary Min_salary Max_salary  \\\n",
       "0                   Walmart        ₹ 28.7L    ₹ 17.7L    ₹ 35.0L   \n",
       "1                  Ab Inbev        ₹ 19.5L    ₹ 15.0L    ₹ 25.0L   \n",
       "2                        ZS        ₹ 15.8L     ₹ 9.8L    ₹ 20.0L   \n",
       "3         Fractal Analytics        ₹ 15.0L     ₹ 9.5L    ₹ 22.0L   \n",
       "4                     Optum        ₹ 15.0L    ₹ 11.0L    ₹ 21.3L   \n",
       "5              UnitedHealth        ₹ 13.5L     ₹ 7.2L    ₹ 20.5L   \n",
       "6           Tiger Analytics        ₹ 13.5L     ₹ 8.3L    ₹ 18.5L   \n",
       "7                   Verizon        ₹ 12.7L    ₹ 10.0L    ₹ 21.0L   \n",
       "8  Ganit Business Solutions        ₹ 12.4L     ₹ 8.5L    ₹ 15.0L   \n",
       "9                  Ericsson        ₹ 11.9L     ₹ 5.8L    ₹ 21.5L   \n",
       "\n",
       "                         experience  \n",
       "0    Data Scientist\\n . \\n3 yrs exp  \n",
       "1  Data Scientist\\n . \\n3-4 yrs exp  \n",
       "2    Data Scientist\\n . \\n2 yrs exp  \n",
       "3  Data Scientist\\n . \\n2-4 yrs exp  \n",
       "4  Data Scientist\\n . \\n3-4 yrs exp  \n",
       "5  Data Scientist\\n . \\n2-4 yrs exp  \n",
       "6  Data Scientist\\n . \\n3-4 yrs exp  \n",
       "7    Data Scientist\\n . \\n4 yrs exp  \n",
       "8    Data Scientist\\n . \\n4 yrs exp  \n",
       "9  Data Scientist\\n . \\n3-4 yrs exp  "
      ]
     },
     "execution_count": 70,
     "metadata": {},
     "output_type": "execute_result"
    }
   ],
   "source": [
    "ambition = pd.DataFrame()\n",
    "ambition['company_name'] = company\n",
    "ambition['Average_salary'] = avg_salary\n",
    "ambition['Min_salary'] = min_salary\n",
    "ambition['Max_salary'] = max_salary\n",
    "ambition['experience'] = exp\n",
    "ambition[0:10]"
   ]
  },
  {
   "cell_type": "code",
   "execution_count": null,
   "id": "c3359068",
   "metadata": {},
   "outputs": [],
   "source": []
  }
 ],
 "metadata": {
  "kernelspec": {
   "display_name": "Python 3 (ipykernel)",
   "language": "python",
   "name": "python3"
  },
  "language_info": {
   "codemirror_mode": {
    "name": "ipython",
    "version": 3
   },
   "file_extension": ".py",
   "mimetype": "text/x-python",
   "name": "python",
   "nbconvert_exporter": "python",
   "pygments_lexer": "ipython3",
   "version": "3.9.7"
  }
 },
 "nbformat": 4,
 "nbformat_minor": 5
}
